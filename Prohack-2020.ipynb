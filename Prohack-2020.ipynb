{
  "nbformat": 4,
  "nbformat_minor": 0,
  "metadata": {
    "colab": {
      "name": "Копия блокнота \"Untitled2.ipynb\"",
      "provenance": [],
      "collapsed_sections": []
    },
    "kernelspec": {
      "name": "python3",
      "display_name": "Python 3"
    }
  },
  "cells": [
    {
      "cell_type": "code",
      "metadata": {
        "id": "9F12EDu7A73u",
        "colab_type": "code",
        "colab": {}
      },
      "source": [
        "import pandas as pd\n",
        "import matplotlib.pyplot as plt\n",
        "import seaborn as sns\n",
        "import numpy as np\n",
        "import xgboost as xgb\n",
        "from xgboost import XGBRegressor\n",
        "from sklearn.model_selection import KFold, GridSearchCV, cross_validate\n",
        "from sklearn.metrics import mean_squared_error as mse\n",
        "from sklearn.preprocessing import StandardScaler\n",
        "from scipy.stats.mstats import gmean, hmean\n",
        "import warnings\n",
        "np.set_printoptions(threshold=np.inf)\n",
        "warnings.simplefilter('ignore')\n",
        "sns.set()\n",
        "%config InlineBackend.figure_format = 'retina'"
      ],
      "execution_count": null,
      "outputs": []
    },
    {
      "cell_type": "markdown",
      "metadata": {
        "id": "THwkzno0blz2",
        "colab_type": "text"
      },
      "source": [
        "#Data preprocessing"
      ]
    },
    {
      "cell_type": "code",
      "metadata": {
        "id": "FeAeL12YBF9V",
        "colab_type": "code",
        "colab": {}
      },
      "source": [
        "train = pd.read_csv('train.csv')\n",
        "test = pd.read_csv('test.csv')"
      ],
      "execution_count": null,
      "outputs": []
    },
    {
      "cell_type": "code",
      "metadata": {
        "id": "xYlOTzdzCF_z",
        "colab_type": "code",
        "colab": {}
      },
      "source": [
        "#Converting galaxies into categores\n",
        "#Droping galaxy 126 as it have only one sample and only in train\n",
        "df = pd.concat([train,test], sort=False)\n",
        "df[\"galaxy\"] = df[\"galaxy\"].astype('category')\n",
        "df[\"galaxy\"] = df[\"galaxy\"].cat.codes\n",
        "df_train = df[:3865]\n",
        "df_test = df[3865:]\n",
        "df_train = df_train.drop(df.index[144]).reset_index(drop=True)\n",
        "df_test = df_test.drop(\"y\", axis = 1)"
      ],
      "execution_count": null,
      "outputs": []
    },
    {
      "cell_type": "code",
      "metadata": {
        "id": "ZbaGhd01OeoA",
        "colab_type": "code",
        "colab": {
          "base_uri": "https://localhost:8080/",
          "height": 54
        },
        "outputId": "a46bf34b-924f-46be-9039-03c61c9e2627"
      },
      "source": [
        "print('Total unique galaxies in train:', len(df_train['galaxy'].unique()))\n",
        "print('Total unique galaxies in test:', len(df_test['galaxy'].unique()))"
      ],
      "execution_count": null,
      "outputs": [
        {
          "output_type": "stream",
          "text": [
            "Total unique galaxies in train: 180\n",
            "Total unique galaxies in test: 172\n"
          ],
          "name": "stdout"
        }
      ]
    },
    {
      "cell_type": "code",
      "metadata": {
        "id": "mL44OYRHPXYe",
        "colab_type": "code",
        "colab": {
          "base_uri": "https://localhost:8080/",
          "height": 54
        },
        "outputId": "230669db-3c3a-4fc9-e05f-b2e8323cc032"
      },
      "source": [
        "print(\"Train size: \" + str(train.shape))\n",
        "print(\"Test size: \" + str(test.shape))"
      ],
      "execution_count": null,
      "outputs": [
        {
          "output_type": "stream",
          "text": [
            "Train size: (3865, 80)\n",
            "Test size: (890, 79)\n"
          ],
          "name": "stdout"
        }
      ]
    },
    {
      "cell_type": "code",
      "metadata": {
        "id": "JjjDLUyUPzgt",
        "colab_type": "code",
        "colab": {
          "base_uri": "https://localhost:8080/",
          "height": 1000
        },
        "outputId": "6fd111ab-e3cc-4b23-92e7-8b3226a317de"
      },
      "source": [
        "df_train.info()"
      ],
      "execution_count": null,
      "outputs": [
        {
          "output_type": "stream",
          "text": [
            "<class 'pandas.core.frame.DataFrame'>\n",
            "RangeIndex: 3864 entries, 0 to 3863\n",
            "Data columns (total 80 columns):\n",
            " #   Column                                                                                   Non-Null Count  Dtype  \n",
            "---  ------                                                                                   --------------  -----  \n",
            " 0   galactic year                                                                            3864 non-null   int64  \n",
            " 1   galaxy                                                                                   3864 non-null   int16  \n",
            " 2   existence expectancy index                                                               3864 non-null   float64\n",
            " 3   existence expectancy at birth                                                            3864 non-null   float64\n",
            " 4   Gross income per capita                                                                  3836 non-null   float64\n",
            " 5   Income Index                                                                             3836 non-null   float64\n",
            " 6   Expected years of education (galactic years)                                             3732 non-null   float64\n",
            " 7   Mean years of education (galactic years)                                                 3502 non-null   float64\n",
            " 8   Intergalactic Development Index (IDI)                                                    3474 non-null   float64\n",
            " 9   Education Index                                                                          3474 non-null   float64\n",
            " 10  Intergalactic Development Index (IDI), Rank                                              3432 non-null   float64\n",
            " 11  Population using at least basic drinking-water services (%)                              2021 non-null   float64\n",
            " 12  Population using at least basic sanitation services (%)                                  2015 non-null   float64\n",
            " 13  Gross capital formation (% of GGP)                                                       1502 non-null   float64\n",
            " 14  Population, total (millions)                                                             1270 non-null   float64\n",
            " 15  Population, urban (%)                                                                    1270 non-null   float64\n",
            " 16  Mortality rate, under-five (per 1,000 live births)                                       1270 non-null   float64\n",
            " 17  Mortality rate, infant (per 1,000 live births)                                           1258 non-null   float64\n",
            " 18  Old age dependency ratio (old age (65 and older) per 100 creatures (ages 15-64))         1264 non-null   float64\n",
            " 19  Population, ages 15–64 (millions)                                                        1264 non-null   float64\n",
            " 20  Population, ages 65 and older (millions)                                                 1264 non-null   float64\n",
            " 21  Life expectancy at birth, male (galactic years)                                          1264 non-null   float64\n",
            " 22  Life expectancy at birth, female (galactic years)                                        1264 non-null   float64\n",
            " 23  Population, under age 5 (millions)                                                       1264 non-null   float64\n",
            " 24  Young age (0-14) dependency ratio (per 100 creatures ages 15-64)                         1264 non-null   float64\n",
            " 25  Adolescent birth rate (births per 1,000 female creatures ages 15-19)                     1252 non-null   float64\n",
            " 26  Total unemployment rate (female to male ratio)                                           1237 non-null   float64\n",
            " 27  Vulnerable employment (% of total employment)                                            1237 non-null   float64\n",
            " 28  Unemployment, total (% of labour force)                                                  1237 non-null   float64\n",
            " 29  Employment in agriculture (% of total employment)                                        1237 non-null   float64\n",
            " 30  Labour force participation rate (% ages 15 and older)                                    1237 non-null   float64\n",
            " 31  Labour force participation rate (% ages 15 and older), female                            1237 non-null   float64\n",
            " 32  Employment in services (% of total employment)                                           1237 non-null   float64\n",
            " 33  Labour force participation rate (% ages 15 and older), male                              1237 non-null   float64\n",
            " 34  Employment to population ratio (% ages 15 and older)                                     1237 non-null   float64\n",
            " 35  Jungle area (% of total land area)                                                       1233 non-null   float64\n",
            " 36  Share of employment in nonagriculture, female (% of total employment in nonagriculture)  1237 non-null   float64\n",
            " 37  Youth unemployment rate (female to male ratio)                                           1236 non-null   float64\n",
            " 38  Unemployment, youth (% ages 15–24)                                                       1236 non-null   float64\n",
            " 39  Mortality rate, female grown up (per 1,000 people)                                       1253 non-null   float64\n",
            " 40  Mortality rate, male grown up (per 1,000 people)                                         1253 non-null   float64\n",
            " 41  Infants lacking immunization, red hot disease (% of one-galactic year-olds)              1218 non-null   float64\n",
            " 42  Infants lacking immunization, Combination Vaccine (% of one-galactic year-olds)          1218 non-null   float64\n",
            " 43  Gross galactic product (GGP) per capita                                                  1201 non-null   float64\n",
            " 44  Gross galactic product (GGP), total                                                      1201 non-null   float64\n",
            " 45  Outer Galaxies direct investment, net inflows (% of GGP)                                 1169 non-null   float64\n",
            " 46  Exports and imports (% of GGP)                                                           1144 non-null   float64\n",
            " 47  Share of seats in senate (% held by female)                                              1123 non-null   float64\n",
            " 48  Natural resource depletion                                                               1132 non-null   float64\n",
            " 49  Mean years of education, female (galactic years)                                         1140 non-null   float64\n",
            " 50  Mean years of education, male (galactic years)                                           1138 non-null   float64\n",
            " 51  Expected years of education, female (galactic years)                                     1109 non-null   float64\n",
            " 52  Expected years of education, male (galactic years)                                       1108 non-null   float64\n",
            " 53  Maternal mortality ratio (deaths per 100,000 live births)                                1252 non-null   float64\n",
            " 54  Renewable energy consumption (% of total final energy consumption)                       1234 non-null   float64\n",
            " 55  Estimated gross galactic income per capita, male                                         1055 non-null   float64\n",
            " 56  Estimated gross galactic income per capita, female                                       1055 non-null   float64\n",
            " 57  Rural population with access to electricity (%)                                          1029 non-null   float64\n",
            " 58  Domestic credit provided by financial sector (% of GGP)                                  1079 non-null   float64\n",
            " 59  Population with at least some secondary education, female (% ages 25 and older)          1089 non-null   float64\n",
            " 60  Population with at least some secondary education, male (% ages 25 and older)            1087 non-null   float64\n",
            " 61  Gross fixed capital formation (% of GGP)                                                 1074 non-null   float64\n",
            " 62  Remittances, inflows (% of GGP)                                                          1028 non-null   float64\n",
            " 63  Population with at least some secondary education (% ages 25 and older)                  1051 non-null   float64\n",
            " 64  Intergalactic inbound tourists (thousands)                                               995 non-null    float64\n",
            " 65  Gross enrolment ratio, primary (% of primary under-age population)                       1038 non-null   float64\n",
            " 66  Respiratory disease incidence (per 100,000 people)                                       896 non-null    float64\n",
            " 67  Interstellar phone subscriptions (per 100 people)                                        891 non-null    float64\n",
            " 68  Interstellar Data Net users, total (% of population)                                     872 non-null    float64\n",
            " 69  Current health expenditure (% of GGP)                                                    867 non-null    float64\n",
            " 70  Intergalactic Development Index (IDI), female                                            916 non-null    float64\n",
            " 71  Intergalactic Development Index (IDI), male                                              915 non-null    float64\n",
            " 72  Gender Development Index (GDI)                                                           914 non-null    float64\n",
            " 73  Intergalactic Development Index (IDI), female, Rank                                      893 non-null    float64\n",
            " 74  Intergalactic Development Index (IDI), male, Rank                                        892 non-null    float64\n",
            " 75  Adjusted net savings                                                                     912 non-null    float64\n",
            " 76  Creature Immunodeficiency Disease prevalence, adult (% ages 15-49), total                941 non-null    float64\n",
            " 77  Private galaxy capital flows (% of GGP)                                                  874 non-null    float64\n",
            " 78  Gender Inequality Index (GII)                                                            844 non-null    float64\n",
            " 79  y                                                                                        3864 non-null   float64\n",
            "dtypes: float64(78), int16(1), int64(1)\n",
            "memory usage: 2.3 MB\n"
          ],
          "name": "stdout"
        }
      ]
    },
    {
      "cell_type": "markdown",
      "metadata": {
        "id": "_PNsK2Hjckgc",
        "colab_type": "text"
      },
      "source": [
        "#Filling NA values \n",
        "Main idea was to fill indexes according to http://hdr.undp.org/sites/default/files/hdr2019_technical_notes.pdf, so we can use that indexes to predict target variable as it a composition index itself. <br>\n",
        "To fill features that got NAs and that were part of formulas to calculate our main indexes, i used  regression. So basically i filled NA values using xgboost regressor."
      ]
    },
    {
      "cell_type": "markdown",
      "metadata": {
        "id": "A7ipVh8hb2TF",
        "colab_type": "text"
      },
      "source": [
        "##Filling NA values of Intergalactic Development Index (IDI)"
      ]
    },
    {
      "cell_type": "code",
      "metadata": {
        "id": "5UKOqkA9ct-u",
        "colab_type": "code",
        "colab": {}
      },
      "source": [
        "#Заполняем Expected years of education (galactic years), Mean years of education (galactic years) и Gross capital formation (% of GGP) мианами по галактикам\n",
        "df_train['Gross income per capita'] = df_train.groupby('galaxy')['Gross income per capita'].apply(lambda x: x.fillna(x.mean()))\n",
        "df_train['Mean years of education (galactic years)'] = df_train.groupby('galaxy')['Mean years of education (galactic years)'].apply(lambda x: x.fillna(x.mean()))\n",
        "df_train['Expected years of education (galactic years)'] = df_train.groupby('galaxy')['Expected years of education (galactic years)'].apply(lambda x: x.fillna(x.mean()))"
      ],
      "execution_count": null,
      "outputs": []
    },
    {
      "cell_type": "code",
      "metadata": {
        "id": "bQAoAVxisIhB",
        "colab_type": "code",
        "colab": {}
      },
      "source": [
        "# Заполняем Education Index\n",
        "min_val_exp = round(df_train['Expected years of education (galactic years)'].min())\n",
        "min_val_mean = round(df_train['Mean years of education (galactic years)'].min())\n",
        "max_val_exp = round(df_train['Expected years of education (galactic years)'].max())\n",
        "max_val_mean = round(df_train['Mean years of education (galactic years)'].max())\n",
        "df_train['Expected years of education index'] = (df_train['Expected years of education (galactic years)'] - min_val_exp)/(max_val_exp - min_val_exp)\n",
        "df_train['Mean years of education index'] = (df_train['Mean years of education (galactic years)'] - min_val_mean)/(max_val_mean - min_val_mean)\n",
        "df_train['Education Index'] = df_train.groupby('galaxy')['Education Index'].fillna((df_train['Expected years of education index'] + df_train['Mean years of education index'])/2)"
      ],
      "execution_count": null,
      "outputs": []
    },
    {
      "cell_type": "code",
      "metadata": {
        "id": "8WTtxlDqvT9S",
        "colab_type": "code",
        "colab": {}
      },
      "source": [
        "# Заполняем Income Index\n",
        "min_val_gi_per_capita = 1000\n",
        "max_val_gi_per_capita = 75000\n",
        "df_train['Income Index'] = df_train.groupby('galaxy')['Income Index'].fillna((np.log(df_train['Gross income per capita']) - np.log(min_val_gi_per_capita))/(max_val_gi_per_capita - min_val_gi_per_capita))"
      ],
      "execution_count": null,
      "outputs": []
    },
    {
      "cell_type": "code",
      "metadata": {
        "id": "tbszEg0nxw0w",
        "colab_type": "code",
        "colab": {}
      },
      "source": [
        "#Создаем Health Index\n",
        "df_train['Health Index'] = (df_train['existence expectancy at birth'] - 30)/(100 - 30)"
      ],
      "execution_count": null,
      "outputs": []
    },
    {
      "cell_type": "code",
      "metadata": {
        "id": "cctJZpCUwdRC",
        "colab_type": "code",
        "colab": {}
      },
      "source": [
        "#Заполняем Intergalactic Development Index (IDI)  \n",
        "df_train['Intergalactic Development Index (IDI)'] = df_train['Intergalactic Development Index (IDI)'].fillna((df_train['Education Index'] * df_train['Income Index'] * df_train['Health Index']) ** (1/3))"
      ],
      "execution_count": null,
      "outputs": []
    },
    {
      "cell_type": "markdown",
      "metadata": {
        "id": "fwPPLR-mBKJf",
        "colab_type": "text"
      },
      "source": [
        "##Function to fill columns with regression"
      ]
    },
    {
      "cell_type": "code",
      "metadata": {
        "id": "S4d4SyUOBJxn",
        "colab_type": "code",
        "colab": {}
      },
      "source": [
        "def fill_nan_with_reg(data, features, columns_to_reg_on):\n",
        "    data = data.drop(['galaxy'], axis=1)\n",
        "    df_train_not_nan = data.loc[:, columns_to_reg_on]\n",
        "\n",
        "    for feature in features:\n",
        "      na_index = data[data.loc[:,feature].isnull()][feature].index\n",
        "      not_na_index = data[data.loc[:,feature].notnull()][feature].index\n",
        "      x_train = df_train_not_nan.iloc[not_na_index]\n",
        "      y_train = data.loc[not_na_index,feature]\n",
        "      x_test = df_train_not_nan.iloc[na_index]\n",
        "\n",
        "      model = XGBRegressor(n_estimators=500, learning_rate=0.08, max_depth=4).fit(x_train, y_train)\n",
        "      pred = model.predict(x_test)\n",
        "\n",
        "      ser = pd.Series(pred, index = na_index)\n",
        "      feature_with_no_na = y_train.append(ser).sort_index()\n",
        "\n",
        "      df_train_not_nan[feature] = feature_with_no_na\n",
        "\n",
        "    return df_train_not_nan"
      ],
      "execution_count": null,
      "outputs": []
    },
    {
      "cell_type": "markdown",
      "metadata": {
        "id": "BRIuoRJfELZP",
        "colab_type": "text"
      },
      "source": [
        "##Filling GDI"
      ]
    },
    {
      "cell_type": "markdown",
      "metadata": {
        "id": "5xmCXgEaQA1w",
        "colab_type": "text"
      },
      "source": [
        "###Filling Estimated female/male earned income index"
      ]
    },
    {
      "cell_type": "code",
      "metadata": {
        "id": "cEn7qvTCD-Dm",
        "colab_type": "code",
        "colab": {}
      },
      "source": [
        "df_train.loc[df_train['Estimated gross galactic income per capita, female'] < 0, 'Estimated gross galactic income per capita, female'] = 100"
      ],
      "execution_count": null,
      "outputs": []
    },
    {
      "cell_type": "code",
      "metadata": {
        "id": "U8B3Z21iQVQH",
        "colab_type": "code",
        "colab": {}
      },
      "source": [
        "correlation_2 = abs(df_train.corrwith(df_train['Estimated gross galactic income per capita, male']))\n",
        "columns_2 = list(correlation_2.nlargest(15).index)[1:]"
      ],
      "execution_count": 145,
      "outputs": []
    },
    {
      "cell_type": "code",
      "metadata": {
        "id": "ndfd4S_PP8UI",
        "colab_type": "code",
        "colab": {
          "base_uri": "https://localhost:8080/",
          "height": 54
        },
        "outputId": "37b362b4-fef7-4e45-dcc0-ea6c0ccd4915"
      },
      "source": [
        "features_to_fill = ['Estimated gross galactic income per capita, male', 'Estimated gross galactic income per capita, female']\n",
        "cols_to_reg_on = ['Gross income per capita', 'Gross galactic product (GGP) per capita', 'Income Index',  'Intergalactic Development Index (IDI), Rank', 'Intergalactic Development Index (IDI)']\n",
        "\n",
        "df_train_not_nan = fill_nan_with_reg(df_train, features_to_fill, cols_to_reg_on)\n",
        "\n",
        "not_nan_cols = df_train_not_nan.columns\n",
        "df_train[not_nan_cols] = df_train_not_nan[not_nan_cols]"
      ],
      "execution_count": null,
      "outputs": [
        {
          "output_type": "stream",
          "text": [
            "[10:25:11] WARNING: /workspace/src/objective/regression_obj.cu:152: reg:linear is now deprecated in favor of reg:squarederror.\n",
            "[10:25:12] WARNING: /workspace/src/objective/regression_obj.cu:152: reg:linear is now deprecated in favor of reg:squarederror.\n"
          ],
          "name": "stdout"
        }
      ]
    },
    {
      "cell_type": "code",
      "metadata": {
        "id": "vUfvqPKxESTu",
        "colab_type": "code",
        "colab": {}
      },
      "source": [
        "df_train['Estimated female earned income index'] = (np.log(df_train['Estimated gross galactic income per capita, female']) - np.log(100)) / (np.log(75000) - np.log(100))\n",
        "df_train['Estimated male earned income index'] = (np.log(df_train['Estimated gross galactic income per capita, male']) - np.log(100)) / (np.log(75000) - np.log(100))"
      ],
      "execution_count": null,
      "outputs": []
    },
    {
      "cell_type": "markdown",
      "metadata": {
        "id": "VZStNQYuQJo2",
        "colab_type": "text"
      },
      "source": [
        "###Flling Female/male health index"
      ]
    },
    {
      "cell_type": "code",
      "metadata": {
        "id": "vKm5KkhcRVq_",
        "colab_type": "code",
        "colab": {}
      },
      "source": [
        "df_train['Mortality rate, under-five (per 1,000 live births)'] = df_train['Mortality rate, under-five (per 1,000 live births)'] + df_train['Mortality rate, infant (per 1,000 live births)']\n",
        "df_train = df_train.drop('Mortality rate, infant (per 1,000 live births)', axis=1)"
      ],
      "execution_count": null,
      "outputs": []
    },
    {
      "cell_type": "code",
      "metadata": {
        "id": "VOdSrol7QpH-",
        "colab_type": "code",
        "colab": {}
      },
      "source": [
        "correlation_2 = abs(df_train.corrwith(df_train['Mortality rate, under-five (per 1,000 live births)']))\n",
        "columns_2 = list(correlation_2.nlargest(15).index)[1:]"
      ],
      "execution_count": 146,
      "outputs": []
    },
    {
      "cell_type": "code",
      "metadata": {
        "id": "TbW3AA4XNWYB",
        "colab_type": "code",
        "colab": {
          "base_uri": "https://localhost:8080/",
          "height": 35
        },
        "outputId": "8d605566-03c3-48d3-fa8e-e7bd7ff83a3e"
      },
      "source": [
        "features_to_fill_2 = ['Mortality rate, under-five (per 1,000 live births)']\n",
        "cols_to_reg_on = ['existence expectancy index', 'Health Index', 'existence expectancy at birth', 'Intergalactic Development Index (IDI)']\n",
        "\n",
        "df_train_not_nan = fill_nan_with_reg(df_train, features_to_fill_2, cols_to_reg_on)\n",
        "\n",
        "not_nan_cols = df_train_not_nan.columns\n",
        "df_train[not_nan_cols] = df_train_not_nan[not_nan_cols]"
      ],
      "execution_count": null,
      "outputs": [
        {
          "output_type": "stream",
          "text": [
            "[10:25:13] WARNING: /workspace/src/objective/regression_obj.cu:152: reg:linear is now deprecated in favor of reg:squarederror.\n"
          ],
          "name": "stdout"
        }
      ]
    },
    {
      "cell_type": "code",
      "metadata": {
        "id": "ocAf3LVoSsr9",
        "colab_type": "code",
        "colab": {}
      },
      "source": [
        "correlation_2 = abs(df_train.corrwith(df_train['Life expectancy at birth, female (galactic years)']))\n",
        "columns_2 = list(correlation_2.nlargest(15).index)[1:]"
      ],
      "execution_count": 147,
      "outputs": []
    },
    {
      "cell_type": "code",
      "metadata": {
        "id": "xSHGzzfQSx_z",
        "colab_type": "code",
        "colab": {
          "base_uri": "https://localhost:8080/",
          "height": 54
        },
        "outputId": "1596fa1e-c434-4d20-f623-4830bd2cff4c"
      },
      "source": [
        "features_to_fill_2 = ['Life expectancy at birth, female (galactic years)', 'Life expectancy at birth, male (galactic years)']\n",
        "cols_to_reg_on = ['existence expectancy index', 'Health Index', 'existence expectancy at birth', 'Intergalactic Development Index (IDI)', 'Mortality rate, under-five (per 1,000 live births)']\n",
        "\n",
        "df_train_not_nan = fill_nan_with_reg(df_train, features_to_fill_2, cols_to_reg_on)\n",
        "\n",
        "not_nan_cols = df_train_not_nan.columns\n",
        "df_train[not_nan_cols] = df_train_not_nan[not_nan_cols]"
      ],
      "execution_count": null,
      "outputs": [
        {
          "output_type": "stream",
          "text": [
            "[10:25:13] WARNING: /workspace/src/objective/regression_obj.cu:152: reg:linear is now deprecated in favor of reg:squarederror.\n",
            "[10:25:14] WARNING: /workspace/src/objective/regression_obj.cu:152: reg:linear is now deprecated in favor of reg:squarederror.\n"
          ],
          "name": "stdout"
        }
      ]
    },
    {
      "cell_type": "code",
      "metadata": {
        "id": "qzVsHREEESO_",
        "colab_type": "code",
        "colab": {}
      },
      "source": [
        "df_train['Female health index'] = (df_train['Life expectancy at birth, female (galactic years)'] - 30) / (88 - 30)\n",
        "df_train['Male health index'] = (df_train['Life expectancy at birth, male (galactic years)'] - 30) / (88 - 30)"
      ],
      "execution_count": null,
      "outputs": []
    },
    {
      "cell_type": "markdown",
      "metadata": {
        "id": "tNkkDkvZQS0x",
        "colab_type": "text"
      },
      "source": [
        "###Filling Female/male education index"
      ]
    },
    {
      "cell_type": "code",
      "metadata": {
        "id": "5r4651zcTSA9",
        "colab_type": "code",
        "colab": {}
      },
      "source": [
        "correlation_2 = abs(df_train.corrwith(df_train['Population with at least some secondary education (% ages 25 and older)']))\n",
        "columns_2 = list(correlation_2.nlargest(15).index)[1:]"
      ],
      "execution_count": 148,
      "outputs": []
    },
    {
      "cell_type": "code",
      "metadata": {
        "id": "E1BMz4zFTy7P",
        "colab_type": "code",
        "colab": {
          "base_uri": "https://localhost:8080/",
          "height": 72
        },
        "outputId": "802c9a15-4726-4cc7-c21f-d628d902e864"
      },
      "source": [
        "features_to_fill = ['Population with at least some secondary education (% ages 25 and older)', 'Population with at least some secondary education, female (% ages 25 and older)',\n",
        "                    'Population with at least some secondary education, male (% ages 25 and older)']\n",
        "cols_to_reg_on = ['Mean years of education index', 'Education Index', 'Intergalactic Development Index (IDI)']\n",
        "\n",
        "df_train_not_nan = fill_nan_with_reg(df_train, features_to_fill, cols_to_reg_on)\n",
        "\n",
        "not_nan_cols = df_train_not_nan.columns\n",
        "df_train[not_nan_cols] = df_train_not_nan[not_nan_cols]"
      ],
      "execution_count": null,
      "outputs": [
        {
          "output_type": "stream",
          "text": [
            "[10:25:14] WARNING: /workspace/src/objective/regression_obj.cu:152: reg:linear is now deprecated in favor of reg:squarederror.\n",
            "[10:25:15] WARNING: /workspace/src/objective/regression_obj.cu:152: reg:linear is now deprecated in favor of reg:squarederror.\n",
            "[10:25:15] WARNING: /workspace/src/objective/regression_obj.cu:152: reg:linear is now deprecated in favor of reg:squarederror.\n"
          ],
          "name": "stdout"
        }
      ]
    },
    {
      "cell_type": "code",
      "metadata": {
        "id": "EaNmaWzgT0Rg",
        "colab_type": "code",
        "colab": {}
      },
      "source": [
        "correlation_2 = abs(df_train.corrwith(df_train['Mean years of education, female (galactic years)']))\n",
        "columns_2 = list(correlation_2.nlargest(15).index)[1:]"
      ],
      "execution_count": 149,
      "outputs": []
    },
    {
      "cell_type": "code",
      "metadata": {
        "id": "yKo4Yp2BOICO",
        "colab_type": "code",
        "colab": {
          "base_uri": "https://localhost:8080/",
          "height": 90
        },
        "outputId": "d501f225-cf6d-4c87-aaea-ec2e82ee882c"
      },
      "source": [
        "features_to_fill = ['Mean years of education, female (galactic years)', 'Mean years of education, male (galactic years)',\n",
        "                    'Expected years of education, female (galactic years)', 'Expected years of education, male (galactic years)']\n",
        "cols_to_reg_on = ['Mean years of education index', 'Population with at least some secondary education, female (% ages 25 and older)', 'Education Index', \n",
        "                  'Population with at least some secondary education (% ages 25 and older)', 'Population with at least some secondary education, male (% ages 25 and older)', \n",
        "                  'Intergalactic Development Index (IDI)']\n",
        "\n",
        "df_train_not_nan = fill_nan_with_reg(df_train, features_to_fill, cols_to_reg_on)\n",
        "\n",
        "not_nan_cols = df_train_not_nan.columns\n",
        "df_train[not_nan_cols] = df_train_not_nan[not_nan_cols]"
      ],
      "execution_count": null,
      "outputs": [
        {
          "output_type": "stream",
          "text": [
            "[10:25:15] WARNING: /workspace/src/objective/regression_obj.cu:152: reg:linear is now deprecated in favor of reg:squarederror.\n",
            "[10:25:16] WARNING: /workspace/src/objective/regression_obj.cu:152: reg:linear is now deprecated in favor of reg:squarederror.\n",
            "[10:25:16] WARNING: /workspace/src/objective/regression_obj.cu:152: reg:linear is now deprecated in favor of reg:squarederror.\n",
            "[10:25:17] WARNING: /workspace/src/objective/regression_obj.cu:152: reg:linear is now deprecated in favor of reg:squarederror.\n"
          ],
          "name": "stdout"
        }
      ]
    },
    {
      "cell_type": "code",
      "metadata": {
        "id": "TQL5_PlKP3Y-",
        "colab_type": "code",
        "colab": {}
      },
      "source": [
        "df_train['Female education index'] = ((df_train['Expected years of education, female (galactic years)']/25) + (df_train['Mean years of education, female (galactic years)']/18))/2\n",
        "df_train['Male education index'] = ((df_train['Expected years of education, male (galactic years)']/25) + (df_train['Mean years of education, male (galactic years)']/18))/2"
      ],
      "execution_count": null,
      "outputs": []
    },
    {
      "cell_type": "code",
      "metadata": {
        "id": "Z2SEvjesJhE4",
        "colab_type": "code",
        "colab": {}
      },
      "source": [
        "def fill_with_gmean(data, feature, gmean_vals):\n",
        "  na_index = data[data.loc[:,feature].isnull()][feature].index\n",
        "  gmean_arr = gmean_vals\n",
        "\n",
        "  ser = pd.Series(gmean_arr[na_index], index = na_index)\n",
        "  feature_with_no_na = data[data.loc[:,feature].notnull()][feature].append(ser).sort_index()\n",
        "\n",
        "  return feature_with_no_na"
      ],
      "execution_count": null,
      "outputs": []
    },
    {
      "cell_type": "code",
      "metadata": {
        "id": "TEJ1-IJSHPie",
        "colab_type": "code",
        "colab": {}
      },
      "source": [
        "male_gmean = gmean(df_train.loc[:,['Male education index', 'Male health index', 'Estimated male earned income index']], axis = 1)\n",
        "female_gmean = gmean(df_train.loc[:,['Female education index', 'Female health index', 'Estimated female earned income index']], axis = 1)"
      ],
      "execution_count": null,
      "outputs": []
    },
    {
      "cell_type": "code",
      "metadata": {
        "id": "nMPby7iRK7SG",
        "colab_type": "code",
        "colab": {}
      },
      "source": [
        "df_train['Intergalactic Development Index (IDI), male'] = fill_with_gmean(df_train, 'Intergalactic Development Index (IDI), male', male_gmean)\n",
        "df_train['Intergalactic Development Index (IDI), female'] = fill_with_gmean(df_train, 'Intergalactic Development Index (IDI), female', female_gmean)"
      ],
      "execution_count": null,
      "outputs": []
    },
    {
      "cell_type": "code",
      "metadata": {
        "id": "k6c5CWLgGfMG",
        "colab_type": "code",
        "colab": {}
      },
      "source": [
        "df_train['Gender Development Index (GDI)'] = df_train['Gender Development Index (GDI)'].fillna(df_train['Intergalactic Development Index (IDI), male'] / df_train['Intergalactic Development Index (IDI), female'])"
      ],
      "execution_count": null,
      "outputs": []
    },
    {
      "cell_type": "markdown",
      "metadata": {
        "id": "Dv58DlpWONk2",
        "colab_type": "text"
      },
      "source": [
        "##Filling GII"
      ]
    },
    {
      "cell_type": "code",
      "metadata": {
        "id": "s3iliLjoW7PU",
        "colab_type": "code",
        "colab": {
          "base_uri": "https://localhost:8080/",
          "height": 35
        },
        "outputId": "181bd3db-e516-45b9-eb59-031d67de8a94"
      },
      "source": [
        "features_to_fill = ['Young age (0-14) dependency ratio (per 100 creatures ages 15-64)']\n",
        "cols_to_reg_on = ['Intergalactic Development Index (IDI), female', 'Intergalactic Development Index (IDI), male', 'Female education index',\n",
        "                  'Intergalactic Development Index (IDI)', 'Female health index', 'Life expectancy at birth, female (galactic years)', 'Gender Inequality Index (GII)','Male education index']\n",
        "\n",
        "df_train_not_nan = fill_nan_with_reg(df_train, features_to_fill, cols_to_reg_on)\n",
        "\n",
        "not_nan_cols = df_train_not_nan.columns\n",
        "df_train[not_nan_cols] = df_train_not_nan[not_nan_cols]"
      ],
      "execution_count": null,
      "outputs": [
        {
          "output_type": "stream",
          "text": [
            "[10:25:18] WARNING: /workspace/src/objective/regression_obj.cu:152: reg:linear is now deprecated in favor of reg:squarederror.\n"
          ],
          "name": "stdout"
        }
      ]
    },
    {
      "cell_type": "code",
      "metadata": {
        "id": "a29LT4sdXhKv",
        "colab_type": "code",
        "colab": {
          "base_uri": "https://localhost:8080/",
          "height": 35
        },
        "outputId": "42e8832a-b006-43ce-f17f-49b50acd48f1"
      },
      "source": [
        "features_to_fill = ['Maternal mortality ratio (deaths per 100,000 live births)']\n",
        "cols_to_reg_on = ['Mortality rate, under-five (per 1,000 live births)', 'Female health index', 'Life expectancy at birth, female (galactic years)',\n",
        " 'existence expectancy at birth', 'Health Index', 'existence expectancy index', 'Life expectancy at birth, male (galactic years)', 'Male health index']\n",
        "\n",
        "df_train_not_nan = fill_nan_with_reg(df_train, features_to_fill, cols_to_reg_on)\n",
        "not_nan_cols = df_train_not_nan.columns\n",
        "df_train[not_nan_cols] = df_train_not_nan[not_nan_cols]"
      ],
      "execution_count": null,
      "outputs": [
        {
          "output_type": "stream",
          "text": [
            "[10:25:18] WARNING: /workspace/src/objective/regression_obj.cu:152: reg:linear is now deprecated in favor of reg:squarederror.\n"
          ],
          "name": "stdout"
        }
      ]
    },
    {
      "cell_type": "code",
      "metadata": {
        "id": "0RRBOlp4X194",
        "colab_type": "code",
        "colab": {
          "base_uri": "https://localhost:8080/",
          "height": 35
        },
        "outputId": "f31f7f30-e76d-4fdd-a8b9-c53dd7e33e05"
      },
      "source": [
        "features_to_fill = ['Adolescent birth rate (births per 1,000 female creatures ages 15-19)']\n",
        "cols_to_reg_on = ['Mortality rate, under-five (per 1,000 live births)', 'Young age (0-14) dependency ratio (per 100 creatures ages 15-64)', 'existence expectancy at birth',\n",
        " 'Health Index', 'Life expectancy at birth, female (galactic years)', 'Female health index', 'Intergalactic Development Index (IDI), male']\n",
        "\n",
        "df_train_not_nan = fill_nan_with_reg(df_train, features_to_fill, cols_to_reg_on)\n",
        "not_nan_cols = df_train_not_nan.columns\n",
        "df_train[not_nan_cols] = df_train_not_nan[not_nan_cols]"
      ],
      "execution_count": null,
      "outputs": [
        {
          "output_type": "stream",
          "text": [
            "[10:25:19] WARNING: /workspace/src/objective/regression_obj.cu:152: reg:linear is now deprecated in favor of reg:squarederror.\n"
          ],
          "name": "stdout"
        }
      ]
    },
    {
      "cell_type": "code",
      "metadata": {
        "id": "5coPebj6Y_o0",
        "colab_type": "code",
        "colab": {
          "base_uri": "https://localhost:8080/",
          "height": 35
        },
        "outputId": "f92b8cf5-7876-4e06-a284-75a78c80d447"
      },
      "source": [
        "features_to_fill = ['Interstellar Data Net users, total (% of population)']\n",
        "cols_to_reg_on = ['Intergalactic Development Index (IDI), male', 'Male education index', 'Intergalactic Development Index (IDI), female', 'Female education index',\n",
        " 'Intergalactic Development Index (IDI)', 'Education Index']\n",
        "\n",
        "df_train_not_nan = fill_nan_with_reg(df_train, features_to_fill, cols_to_reg_on)\n",
        "not_nan_cols = df_train_not_nan.columns\n",
        "df_train[not_nan_cols] = df_train_not_nan[not_nan_cols]"
      ],
      "execution_count": null,
      "outputs": [
        {
          "output_type": "stream",
          "text": [
            "[10:25:20] WARNING: /workspace/src/objective/regression_obj.cu:152: reg:linear is now deprecated in favor of reg:squarederror.\n"
          ],
          "name": "stdout"
        }
      ]
    },
    {
      "cell_type": "code",
      "metadata": {
        "id": "BtWniatwZjWe",
        "colab_type": "code",
        "colab": {
          "base_uri": "https://localhost:8080/",
          "height": 35
        },
        "outputId": "46543c38-e5b8-4bdb-8e62-d7b8022f2557"
      },
      "source": [
        "features_to_fill = ['Share of seats in senate (% held by female)']\n",
        "cols_to_reg_on = ['Interstellar Data Net users, total (% of population)', 'galactic year', 'Expected years of education, male (galactic years)', 'Expected years of education (galactic years)',\n",
        " 'Expected years of education index', 'Expected years of education, female (galactic years)', 'Education Index']\n",
        "\n",
        "df_train_not_nan = fill_nan_with_reg(df_train, features_to_fill, cols_to_reg_on)\n",
        "not_nan_cols = df_train_not_nan.columns\n",
        "df_train[not_nan_cols] = df_train_not_nan[not_nan_cols]"
      ],
      "execution_count": null,
      "outputs": [
        {
          "output_type": "stream",
          "text": [
            "[10:25:20] WARNING: /workspace/src/objective/regression_obj.cu:152: reg:linear is now deprecated in favor of reg:squarederror.\n"
          ],
          "name": "stdout"
        }
      ]
    },
    {
      "cell_type": "code",
      "metadata": {
        "id": "HzBtVvEmGfJs",
        "colab_type": "code",
        "colab": {
          "base_uri": "https://localhost:8080/",
          "height": 54
        },
        "outputId": "b8bc476e-231f-4187-e428-659ea0ef563b"
      },
      "source": [
        "features_to_fill = ['Labour force participation rate (% ages 15 and older), male', 'Labour force participation rate (% ages 15 and older), female']\n",
        "cols_to_reg_on = ['Population with at least some secondary education (% ages 25 and older)', 'Mean years of education, male (galactic years)',\n",
        "                  'Population with at least some secondary education, male (% ages 25 and older)','Male education index','Mean years of education (galactic years)',\n",
        "                  'Mean years of education index', 'Population with at least some secondary education, female (% ages 25 and older)', 'Education Index']\n",
        "\n",
        "df_train_not_nan = fill_nan_with_reg(df_train, features_to_fill, cols_to_reg_on)\n",
        "not_nan_cols = df_train_not_nan.columns\n",
        "df_train[not_nan_cols] = df_train_not_nan[not_nan_cols]"
      ],
      "execution_count": null,
      "outputs": [
        {
          "output_type": "stream",
          "text": [
            "[10:25:21] WARNING: /workspace/src/objective/regression_obj.cu:152: reg:linear is now deprecated in favor of reg:squarederror.\n",
            "[10:25:21] WARNING: /workspace/src/objective/regression_obj.cu:152: reg:linear is now deprecated in favor of reg:squarederror.\n"
          ],
          "name": "stdout"
        }
      ]
    },
    {
      "cell_type": "code",
      "metadata": {
        "id": "tV9EQXpOdzik",
        "colab_type": "code",
        "colab": {}
      },
      "source": [
        "df_train['Share of seats in senate (% held by male)'] = (1 - df_train['Share of seats in senate (% held by female)'] / 100) * 100\n",
        "\n",
        "Reproductive_health_index_female = np.sqrt((10/df_train['Maternal mortality ratio (deaths per 100,000 live births)'])*(1/df_train['Adolescent birth rate (births per 1,000 female creatures ages 15-19)']))\n",
        "Reproductive_health_index_male = [1] * df_train.shape[0]\n",
        "\n",
        "Empowerment_index_female = np.sqrt((df_train['Share of seats in senate (% held by female)'] / 100)*(df_train['Population with at least some secondary education, female (% ages 25 and older)'] / 100))\n",
        "Empowerment_index_male = np.sqrt((df_train['Share of seats in senate (% held by male)'] / 100)*(df_train['Population with at least some secondary education, male (% ages 25 and older)'] / 100))\n",
        "\n",
        "Labour_Market_Index_female = df_train['Labour force participation rate (% ages 15 and older), female'] /100\n",
        "Labour_Market_Index_male = df_train['Labour force participation rate (% ages 15 and older), male'] / 100\n",
        "\n",
        "\n",
        "Gender_indices_female =  (Reproductive_health_index_female * Empowerment_index_female * Labour_Market_Index_female) ** (1/3)\n",
        "Gender_indices_male = (Reproductive_health_index_male * Empowerment_index_male * Labour_Market_Index_male) ** (1/3)\n",
        "\n",
        "\n",
        "Accounting_inequality = pd.Series(hmean(pd.DataFrame(zip(Gender_indices_female, Gender_indices_male)), axis=1))\n",
        "\n",
        "Treating_equally = (((Reproductive_health_index_female + Reproductive_health_index_male)/2)*\n",
        "                    ((Empowerment_index_female + Empowerment_index_male)/2)*\n",
        "                    ((Labour_Market_Index_female+Labour_Market_Index_male)/2))**(1/3)\n",
        "\n",
        "\n",
        "df_train['Gender Inequality Index (GII)'] = df_train['Gender Inequality Index (GII)'].fillna(1 - (Accounting_inequality / Treating_equally))"
      ],
      "execution_count": null,
      "outputs": []
    },
    {
      "cell_type": "markdown",
      "metadata": {
        "id": "GpN6R9Z8y5hv",
        "colab_type": "text"
      },
      "source": [
        "#Cross-validation\n",
        "Method to cross-validate and then predict that is used in final submission:\n",
        "*   I trained model for every galaxy separatly, so 180 models in total;\n",
        "*   I only used features that i imputed previously;\n",
        "*   Standard Scaler is used to standardize data;\n",
        "*   XGBoost Regressor without any hyperparameter tuning is used as a model."
      ]
    },
    {
      "cell_type": "code",
      "metadata": {
        "id": "yPkiLRKP1qqX",
        "colab_type": "code",
        "colab": {}
      },
      "source": [
        "def cross_validation_loop_no_cor(data):\n",
        "    labels = data['y']\n",
        "    data = data.drop('galaxy', axis=1) \n",
        "    data = data.drop('y', axis=1)\n",
        "\n",
        "    scaler = StandardScaler().fit(data)\n",
        "    data = scaler.transform(data)\n",
        "\n",
        "    estimator = XGBRegressor(silent = True)   \n",
        "    cv_results = cross_validate(estimator, data, labels, cv=4, scoring='neg_root_mean_squared_error')\n",
        "    error = np.mean(cv_results['test_score'])\n",
        "    \n",
        "    return error"
      ],
      "execution_count": 143,
      "outputs": []
    },
    {
      "cell_type": "code",
      "metadata": {
        "id": "ZwllrXcC2vkO",
        "colab_type": "code",
        "colab": {
          "base_uri": "https://localhost:8080/",
          "height": 35
        },
        "outputId": "6747f013-c03e-4e1c-d56a-5586044a5d87"
      },
      "source": [
        "#Cross-validation loop that uses only predefiened index features\n",
        "train_gal = np.sort(df_train['galaxy'].unique())\n",
        "train_gal = np.delete(train_gal, 126)\n",
        "gal_rmse = pd.DataFrame(data = [0]*len(train_gal), index=train_gal, columns=['RMSE_per_galactic'])\n",
        "data_index_only = df_train.loc[:,['galaxy','galactic year','Intergalactic Development Index (IDI), Rank', 'Gender Inequality Index (GII)',\n",
        "                                   'Gender Inequality Index (GII)','Interstellar Data Net users, total (% of population)','y']]\n",
        "\n",
        "errors = []\n",
        "for gal in range(len(train_gal)):\n",
        "  data = data_index_only.loc[df_train['galaxy'] == train_gal[gal]]\n",
        "  errors.append(cross_validation_loop_no_cor(data))\n",
        "  gal_rmse.loc[gal,'RMSE_per_galactic'] = errors[gal]\n",
        "\n",
        "print(np.mean(errors))"
      ],
      "execution_count": 144,
      "outputs": [
        {
          "output_type": "stream",
          "text": [
            "-0.005943956539201264\n"
          ],
          "name": "stdout"
        }
      ]
    },
    {
      "cell_type": "markdown",
      "metadata": {
        "id": "xvaJ1B4Fe_qo",
        "colab_type": "text"
      },
      "source": [
        "Checking which galaxies have worst RMSE on cross-validate:"
      ]
    },
    {
      "cell_type": "code",
      "metadata": {
        "id": "NteiOkdbfDGV",
        "colab_type": "code",
        "colab": {
          "base_uri": "https://localhost:8080/",
          "height": 612
        },
        "outputId": "981561a4-6ac9-4fa8-a960-8d86866d7d9e"
      },
      "source": [
        "#Worst RMSE per galaxy\n",
        "gal_rmse = gal_rmse.sort_values(by='RMSE_per_galactic')\n",
        "gal_rmse.head(20).plot(kind='barh', figsize=(8, 10), color='#86bf91', zorder=2, width=0.85)"
      ],
      "execution_count": 139,
      "outputs": [
        {
          "output_type": "execute_result",
          "data": {
            "text/plain": [
              "<matplotlib.axes._subplots.AxesSubplot at 0x7fc3d25231d0>"
            ]
          },
          "metadata": {
            "tags": []
          },
          "execution_count": 139
        },
        {
          "output_type": "display_data",
          "data": {
            "image/png": "[encoded data removed]",
            "text/plain": [
              "<Figure size 576x720 with 1 Axes>"
            ]
          },
          "metadata": {
            "tags": [],
            "image/png": {
              "width": 503,
              "height": 577
            }
          }
        }
      ]
    },
    {
      "cell_type": "markdown",
      "metadata": {
        "id": "b17XR9MefLBl",
        "colab_type": "text"
      },
      "source": [
        "Trend of target variable for every galactic"
      ]
    },
    {
      "cell_type": "code",
      "metadata": {
        "id": "WgMt81TsXcg8",
        "colab_type": "code",
        "colab": {}
      },
      "source": [
        "# for gal in train_gal:\n",
        "#   df_train[df_train['galaxy'] == gal].plot(x = 'galactic year', y = 'y', xticks = df_train['galactic year'].unique(),figsize=(10, 8), marker='o', rot = 90)"
      ],
      "execution_count": 141,
      "outputs": []
    },
    {
      "cell_type": "markdown",
      "metadata": {
        "id": "wznSx_2tZoHt",
        "colab_type": "text"
      },
      "source": [
        "#Imputing test data frame"
      ]
    },
    {
      "cell_type": "markdown",
      "metadata": {
        "id": "2l06iA_WgAjI",
        "colab_type": "text"
      },
      "source": [
        "##Filling Intergalactic Development Index (IDI)"
      ]
    },
    {
      "cell_type": "code",
      "metadata": {
        "colab_type": "code",
        "id": "A66YWeEw4eND",
        "colab": {}
      },
      "source": [
        "#Заполняем Expected years of education (galactic years), Mean years of education (galactic years) и Gross capital formation (% of GGP) мианами по галактикам\n",
        "df_test['Gross income per capita'] = df_test.groupby('galaxy')['Gross income per capita'].apply(lambda x: x.fillna(x.mean()))\n",
        "df_test['Mean years of education (galactic years)'] = df_test.groupby('galaxy')['Mean years of education (galactic years)'].apply(lambda x: x.fillna(x.mean()))\n",
        "df_test['Expected years of education (galactic years)'] = df_test.groupby('galaxy')['Expected years of education (galactic years)'].apply(lambda x: x.fillna(x.mean()))\n",
        "df_test['existence expectancy at birth'] = df_test.groupby('galaxy')['existence expectancy at birth'].apply(lambda x: x.fillna(x.mean()))"
      ],
      "execution_count": null,
      "outputs": []
    },
    {
      "cell_type": "code",
      "metadata": {
        "colab_type": "code",
        "id": "ia51EkQT4eNL",
        "colab": {}
      },
      "source": [
        "# Заполняем Education Index\n",
        "min_val_exp = 5\n",
        "min_val_mean = 2\n",
        "max_val_exp = 30\n",
        "max_val_mean = 22\n",
        "df_test['Expected years of education index'] = (df_test['Expected years of education (galactic years)'] - min_val_exp)/(max_val_exp - min_val_exp)\n",
        "df_test['Mean years of education index'] = (df_test['Mean years of education (galactic years)'] - min_val_mean)/(max_val_mean - min_val_mean)\n",
        "df_test['Education Index'] = df_test.groupby('galaxy')['Education Index'].fillna((df_test['Expected years of education index'] + df_test['Mean years of education index'])/2)"
      ],
      "execution_count": null,
      "outputs": []
    },
    {
      "cell_type": "code",
      "metadata": {
        "colab_type": "code",
        "id": "EAESCA7Y4eNR",
        "colab": {}
      },
      "source": [
        "# Заполняем Income Index\n",
        "min_val_gi_per_capita = 1000\n",
        "max_val_gi_per_capita = 75000\n",
        "df_test['Income Index'] = df_test.groupby('galaxy')['Income Index'].fillna((np.log(df_test['Gross income per capita']) - np.log(min_val_gi_per_capita))/(max_val_gi_per_capita - min_val_gi_per_capita))"
      ],
      "execution_count": null,
      "outputs": []
    },
    {
      "cell_type": "code",
      "metadata": {
        "colab_type": "code",
        "id": "2PVZjEAJ4eNW",
        "colab": {}
      },
      "source": [
        "#Создаем Health Index\n",
        "df_test['Health Index'] = (df_test['existence expectancy at birth'] - 30)/(100 - 30)"
      ],
      "execution_count": null,
      "outputs": []
    },
    {
      "cell_type": "code",
      "metadata": {
        "colab_type": "code",
        "id": "HsoBdgja4eNa",
        "colab": {}
      },
      "source": [
        "#Заполняем Intergalactic Development Index (IDI)  \n",
        "df_test['Intergalactic Development Index (IDI)'] = df_test['Intergalactic Development Index (IDI)'].fillna((df_test['Education Index'] * df_test['Income Index'] * df_test['Health Index']) ** (1/3))"
      ],
      "execution_count": null,
      "outputs": []
    },
    {
      "cell_type": "markdown",
      "metadata": {
        "colab_type": "text",
        "id": "TqPmCT5Y4eNf"
      },
      "source": [
        "##Filling some additional columns "
      ]
    },
    {
      "cell_type": "code",
      "metadata": {
        "colab_type": "code",
        "id": "sZz9MeIc4eNw",
        "colab": {
          "base_uri": "https://localhost:8080/",
          "height": 35
        },
        "outputId": "986f58ac-dd61-41db-da48-1d9c7a5067f2"
      },
      "source": [
        "features_to_fill = ['Intergalactic Development Index (IDI), Rank']\n",
        "cols_to_reg_on = ['Intergalactic Development Index (IDI)', 'Income Index', 'Health Index', 'existence expectancy at birth', 'Education Index']\n",
        "\n",
        "df_test_not_nan = fill_nan_with_reg(df_test, features_to_fill, cols_to_reg_on)\n",
        "\n",
        "not_nan_cols = df_test_not_nan.columns\n",
        "df_test[not_nan_cols] = df_test_not_nan[not_nan_cols]"
      ],
      "execution_count": null,
      "outputs": [
        {
          "output_type": "stream",
          "text": [
            "[10:43:18] WARNING: /workspace/src/objective/regression_obj.cu:152: reg:linear is now deprecated in favor of reg:squarederror.\n"
          ],
          "name": "stdout"
        }
      ]
    },
    {
      "cell_type": "code",
      "metadata": {
        "colab_type": "code",
        "id": "2WPtA9r94eNz",
        "colab": {
          "base_uri": "https://localhost:8080/",
          "height": 35
        },
        "outputId": "aa65d324-9fb3-4352-b0be-c2c44ae9824a"
      },
      "source": [
        "features_to_fill = ['Gross galactic product (GGP) per capita']\n",
        "cols_to_reg_on = ['Gross income per capita', 'Income Index', 'Intergalactic Development Index (IDI), Rank', 'Intergalactic Development Index (IDI)']\n",
        "\n",
        "df_test_not_nan = fill_nan_with_reg(df_test, features_to_fill, cols_to_reg_on)\n",
        "\n",
        "not_nan_cols = df_test_not_nan.columns\n",
        "df_test[not_nan_cols] = df_test_not_nan[not_nan_cols]"
      ],
      "execution_count": null,
      "outputs": [
        {
          "output_type": "stream",
          "text": [
            "[10:43:18] WARNING: /workspace/src/objective/regression_obj.cu:152: reg:linear is now deprecated in favor of reg:squarederror.\n"
          ],
          "name": "stdout"
        }
      ]
    },
    {
      "cell_type": "markdown",
      "metadata": {
        "colab_type": "text",
        "id": "hWL7_waB4eN4"
      },
      "source": [
        "##GDI(Gender Development Index)"
      ]
    },
    {
      "cell_type": "markdown",
      "metadata": {
        "colab_type": "text",
        "id": "Gm8n___J4eN4"
      },
      "source": [
        "###Filling Estimated female/male earned income index"
      ]
    },
    {
      "cell_type": "code",
      "metadata": {
        "colab_type": "code",
        "id": "cPz76Dco4eN5",
        "colab": {}
      },
      "source": [
        "df_test.loc[df_test['Estimated gross galactic income per capita, female'] < 0, 'Estimated gross galactic income per capita, female'] = 100"
      ],
      "execution_count": null,
      "outputs": []
    },
    {
      "cell_type": "code",
      "metadata": {
        "colab_type": "code",
        "id": "R80suHa-4eOA",
        "colab": {
          "base_uri": "https://localhost:8080/",
          "height": 54
        },
        "outputId": "0e8ed98d-6326-499f-b0b7-6f7af20659c3"
      },
      "source": [
        "features_to_fill = ['Estimated gross galactic income per capita, male', 'Estimated gross galactic income per capita, female']\n",
        "cols_to_reg_on = ['Gross income per capita', 'Gross galactic product (GGP) per capita', 'Income Index',  'Intergalactic Development Index (IDI), Rank', 'Intergalactic Development Index (IDI)']\n",
        "\n",
        "df_test_not_nan = fill_nan_with_reg(df_test, features_to_fill, cols_to_reg_on)\n",
        "\n",
        "not_nan_cols = df_test_not_nan.columns\n",
        "df_test[not_nan_cols] = df_test_not_nan[not_nan_cols]"
      ],
      "execution_count": null,
      "outputs": [
        {
          "output_type": "stream",
          "text": [
            "[10:43:18] WARNING: /workspace/src/objective/regression_obj.cu:152: reg:linear is now deprecated in favor of reg:squarederror.\n",
            "[10:43:18] WARNING: /workspace/src/objective/regression_obj.cu:152: reg:linear is now deprecated in favor of reg:squarederror.\n"
          ],
          "name": "stdout"
        }
      ]
    },
    {
      "cell_type": "code",
      "metadata": {
        "colab_type": "code",
        "id": "hfjFheQY4eOE",
        "colab": {}
      },
      "source": [
        "df_test['Estimated female earned income index'] = (np.log(df_test['Estimated gross galactic income per capita, female']) - np.log(100)) / (np.log(75000) - np.log(100))\n",
        "df_test['Estimated male earned income index'] = (np.log(df_test['Estimated gross galactic income per capita, male']) - np.log(100)) / (np.log(75000) - np.log(100))"
      ],
      "execution_count": null,
      "outputs": []
    },
    {
      "cell_type": "markdown",
      "metadata": {
        "colab_type": "text",
        "id": "z7uA_YQ64eOH"
      },
      "source": [
        "###Filling Female/male health index"
      ]
    },
    {
      "cell_type": "code",
      "metadata": {
        "colab_type": "code",
        "id": "ZA3h8IMk4eOP",
        "colab": {
          "base_uri": "https://localhost:8080/",
          "height": 35
        },
        "outputId": "30a08d69-cca7-46e3-81dd-1a847c37c80b"
      },
      "source": [
        "features_to_fill_2 = ['Mortality rate, under-five (per 1,000 live births)']\n",
        "cols_to_reg_on = ['existence expectancy index', 'Health Index', 'existence expectancy at birth', 'Intergalactic Development Index (IDI)']\n",
        "\n",
        "df_test_not_nan = fill_nan_with_reg(df_test, features_to_fill_2, cols_to_reg_on)\n",
        "\n",
        "not_nan_cols = df_test_not_nan.columns\n",
        "df_test[not_nan_cols] = df_test_not_nan[not_nan_cols]"
      ],
      "execution_count": null,
      "outputs": [
        {
          "output_type": "stream",
          "text": [
            "[10:46:40] WARNING: /workspace/src/objective/regression_obj.cu:152: reg:linear is now deprecated in favor of reg:squarederror.\n"
          ],
          "name": "stdout"
        }
      ]
    },
    {
      "cell_type": "code",
      "metadata": {
        "colab_type": "code",
        "id": "9KBL9Lpo4eOV",
        "colab": {
          "base_uri": "https://localhost:8080/",
          "height": 54
        },
        "outputId": "fae92385-edcf-4ed9-f757-085d1d515799"
      },
      "source": [
        "features_to_fill_2 = ['Life expectancy at birth, female (galactic years)', 'Life expectancy at birth, male (galactic years)']\n",
        "cols_to_reg_on = ['existence expectancy index', 'Health Index', 'existence expectancy at birth', 'Intergalactic Development Index (IDI)', 'Mortality rate, under-five (per 1,000 live births)']\n",
        "\n",
        "df_test_not_nan = fill_nan_with_reg(df_test, features_to_fill_2, cols_to_reg_on)\n",
        "\n",
        "not_nan_cols = df_test_not_nan.columns\n",
        "df_test[not_nan_cols] = df_test_not_nan[not_nan_cols]"
      ],
      "execution_count": null,
      "outputs": [
        {
          "output_type": "stream",
          "text": [
            "[10:46:43] WARNING: /workspace/src/objective/regression_obj.cu:152: reg:linear is now deprecated in favor of reg:squarederror.\n",
            "[10:46:43] WARNING: /workspace/src/objective/regression_obj.cu:152: reg:linear is now deprecated in favor of reg:squarederror.\n"
          ],
          "name": "stdout"
        }
      ]
    },
    {
      "cell_type": "code",
      "metadata": {
        "colab_type": "code",
        "id": "n3VntF3J4eOX",
        "colab": {}
      },
      "source": [
        "df_test['Female health index'] = (df_test['Life expectancy at birth, female (galactic years)'] - 30) / (88 - 30)\n",
        "df_test['Male health index'] = (df_test['Life expectancy at birth, male (galactic years)'] - 30) / (88 - 30)"
      ],
      "execution_count": null,
      "outputs": []
    },
    {
      "cell_type": "markdown",
      "metadata": {
        "colab_type": "text",
        "id": "Wo3X3-1f4eOd"
      },
      "source": [
        "###FillingFemale/male education index"
      ]
    },
    {
      "cell_type": "code",
      "metadata": {
        "colab_type": "code",
        "id": "a7YFlGU54eOf",
        "colab": {
          "base_uri": "https://localhost:8080/",
          "height": 72
        },
        "outputId": "90ac10d3-0304-49d1-ff00-69546e412afd"
      },
      "source": [
        "features_to_fill = ['Population with at least some secondary education (% ages 25 and older)', 'Population with at least some secondary education, female (% ages 25 and older)',\n",
        "                    'Population with at least some secondary education, male (% ages 25 and older)']\n",
        "cols_to_reg_on = ['Mean years of education index', 'Education Index', 'Intergalactic Development Index (IDI)']\n",
        "\n",
        "df_test_not_nan = fill_nan_with_reg(df_test, features_to_fill, cols_to_reg_on)\n",
        "\n",
        "not_nan_cols = df_test_not_nan.columns\n",
        "df_test[not_nan_cols] = df_test_not_nan[not_nan_cols]"
      ],
      "execution_count": null,
      "outputs": [
        {
          "output_type": "stream",
          "text": [
            "[10:46:48] WARNING: /workspace/src/objective/regression_obj.cu:152: reg:linear is now deprecated in favor of reg:squarederror.\n",
            "[10:46:48] WARNING: /workspace/src/objective/regression_obj.cu:152: reg:linear is now deprecated in favor of reg:squarederror.\n",
            "[10:46:48] WARNING: /workspace/src/objective/regression_obj.cu:152: reg:linear is now deprecated in favor of reg:squarederror.\n"
          ],
          "name": "stdout"
        }
      ]
    },
    {
      "cell_type": "code",
      "metadata": {
        "colab_type": "code",
        "id": "b3uYDm6C4eOl",
        "colab": {
          "base_uri": "https://localhost:8080/",
          "height": 90
        },
        "outputId": "a103d965-1e45-4d89-cdbc-525f48ac6cde"
      },
      "source": [
        "features_to_fill = ['Mean years of education, female (galactic years)', 'Mean years of education, male (galactic years)',\n",
        "                    'Expected years of education, female (galactic years)', 'Expected years of education, male (galactic years)']\n",
        "cols_to_reg_on = ['Mean years of education index', 'Population with at least some secondary education, female (% ages 25 and older)', 'Education Index', \n",
        "                  'Population with at least some secondary education (% ages 25 and older)', 'Population with at least some secondary education, male (% ages 25 and older)', \n",
        "                  'Intergalactic Development Index (IDI)']\n",
        "\n",
        "df_test_not_nan = fill_nan_with_reg(df_test, features_to_fill, cols_to_reg_on)\n",
        "\n",
        "not_nan_cols = df_test_not_nan.columns\n",
        "df_test[not_nan_cols] = df_test_not_nan[not_nan_cols]"
      ],
      "execution_count": null,
      "outputs": [
        {
          "output_type": "stream",
          "text": [
            "[10:46:48] WARNING: /workspace/src/objective/regression_obj.cu:152: reg:linear is now deprecated in favor of reg:squarederror.\n",
            "[10:46:49] WARNING: /workspace/src/objective/regression_obj.cu:152: reg:linear is now deprecated in favor of reg:squarederror.\n",
            "[10:46:49] WARNING: /workspace/src/objective/regression_obj.cu:152: reg:linear is now deprecated in favor of reg:squarederror.\n",
            "[10:46:49] WARNING: /workspace/src/objective/regression_obj.cu:152: reg:linear is now deprecated in favor of reg:squarederror.\n"
          ],
          "name": "stdout"
        }
      ]
    },
    {
      "cell_type": "code",
      "metadata": {
        "colab_type": "code",
        "id": "MqVOCktg4eOr",
        "colab": {}
      },
      "source": [
        "df_test['Female education index'] = ((df_test['Expected years of education, female (galactic years)']/25) + (df_test['Mean years of education, female (galactic years)']/18))/2\n",
        "df_test['Male education index'] = ((df_test['Expected years of education, male (galactic years)']/25) + (df_test['Mean years of education, male (galactic years)']/18))/2"
      ],
      "execution_count": null,
      "outputs": []
    },
    {
      "cell_type": "code",
      "metadata": {
        "colab_type": "code",
        "id": "EqtBvNU24eOu",
        "colab": {}
      },
      "source": [
        "def fill_with_gmean(data, feature, gmean_vals):\n",
        "  na_index = data[data.loc[:,feature].isnull()][feature].index\n",
        "  gmean_arr = gmean_vals\n",
        "\n",
        "  ser = pd.Series(gmean_arr[na_index], index = na_index)\n",
        "  feature_with_no_na = data[data.loc[:,feature].notnull()][feature].append(ser).sort_index()\n",
        "\n",
        "  return feature_with_no_na"
      ],
      "execution_count": null,
      "outputs": []
    },
    {
      "cell_type": "code",
      "metadata": {
        "colab_type": "code",
        "id": "VlKWdSX74eOy",
        "colab": {}
      },
      "source": [
        "male_gmean = gmean(df_test.loc[:,['Male education index', 'Male health index', 'Estimated male earned income index']], axis = 1)\n",
        "female_gmean = gmean(df_test.loc[:,['Female education index', 'Female health index', 'Estimated female earned income index']], axis = 1)"
      ],
      "execution_count": null,
      "outputs": []
    },
    {
      "cell_type": "code",
      "metadata": {
        "colab_type": "code",
        "id": "zYK3dJ0J4eO2",
        "colab": {}
      },
      "source": [
        "df_test['Intergalactic Development Index (IDI), male'] = fill_with_gmean(df_test, 'Intergalactic Development Index (IDI), male', male_gmean)\n",
        "df_test['Intergalactic Development Index (IDI), female'] = fill_with_gmean(df_test, 'Intergalactic Development Index (IDI), female', female_gmean)"
      ],
      "execution_count": null,
      "outputs": []
    },
    {
      "cell_type": "code",
      "metadata": {
        "colab_type": "code",
        "id": "dbFa8_7v4eO4",
        "colab": {}
      },
      "source": [
        "df_test['Gender Development Index (GDI)'] = df_test['Gender Development Index (GDI)'].fillna(df_test['Intergalactic Development Index (IDI), male'] / df_test['Intergalactic Development Index (IDI), female'])"
      ],
      "execution_count": null,
      "outputs": []
    },
    {
      "cell_type": "markdown",
      "metadata": {
        "colab_type": "text",
        "id": "Sk1KroBk4eO6"
      },
      "source": [
        "##Filling GII"
      ]
    },
    {
      "cell_type": "code",
      "metadata": {
        "colab_type": "code",
        "id": "yE_yUPc94eO6",
        "colab": {
          "base_uri": "https://localhost:8080/",
          "height": 35
        },
        "outputId": "08ce76f3-9464-4269-e2f3-715a85a35d4a"
      },
      "source": [
        "features_to_fill = ['Young age (0-14) dependency ratio (per 100 creatures ages 15-64)']\n",
        "cols_to_reg_on = ['Intergalactic Development Index (IDI), female', 'Intergalactic Development Index (IDI), male', 'Female education index',\n",
        "                  'Intergalactic Development Index (IDI)', 'Female health index', 'Life expectancy at birth, female (galactic years)', 'Gender Inequality Index (GII)','Male education index']\n",
        "\n",
        "df_test_not_nan = fill_nan_with_reg(df_test, features_to_fill, cols_to_reg_on)\n",
        "\n",
        "not_nan_cols = df_test_not_nan.columns\n",
        "df_test[not_nan_cols] = df_test_not_nan[not_nan_cols]"
      ],
      "execution_count": null,
      "outputs": [
        {
          "output_type": "stream",
          "text": [
            "[10:46:52] WARNING: /workspace/src/objective/regression_obj.cu:152: reg:linear is now deprecated in favor of reg:squarederror.\n"
          ],
          "name": "stdout"
        }
      ]
    },
    {
      "cell_type": "code",
      "metadata": {
        "colab_type": "code",
        "id": "GmFWOKuf4eO8",
        "colab": {
          "base_uri": "https://localhost:8080/",
          "height": 35
        },
        "outputId": "bea83cd9-fcf7-4b4b-d0dd-37446010b161"
      },
      "source": [
        "features_to_fill = ['Maternal mortality ratio (deaths per 100,000 live births)']\n",
        "cols_to_reg_on = ['Mortality rate, under-five (per 1,000 live births)', 'Female health index', 'Life expectancy at birth, female (galactic years)',\n",
        " 'existence expectancy at birth', 'Health Index', 'existence expectancy index', 'Life expectancy at birth, male (galactic years)', 'Male health index']\n",
        "\n",
        "df_test_not_nan = fill_nan_with_reg(df_test, features_to_fill, cols_to_reg_on)\n",
        "not_nan_cols = df_test_not_nan.columns\n",
        "df_test[not_nan_cols] = df_test_not_nan[not_nan_cols]"
      ],
      "execution_count": null,
      "outputs": [
        {
          "output_type": "stream",
          "text": [
            "[10:46:53] WARNING: /workspace/src/objective/regression_obj.cu:152: reg:linear is now deprecated in favor of reg:squarederror.\n"
          ],
          "name": "stdout"
        }
      ]
    },
    {
      "cell_type": "code",
      "metadata": {
        "colab_type": "code",
        "id": "UjRlMOBJ4eO_",
        "colab": {
          "base_uri": "https://localhost:8080/",
          "height": 35
        },
        "outputId": "4fb375eb-21c0-4920-824a-641d7348b86d"
      },
      "source": [
        "features_to_fill = ['Adolescent birth rate (births per 1,000 female creatures ages 15-19)']\n",
        "cols_to_reg_on = ['Mortality rate, under-five (per 1,000 live births)', 'Young age (0-14) dependency ratio (per 100 creatures ages 15-64)', 'existence expectancy at birth',\n",
        " 'Health Index', 'Life expectancy at birth, female (galactic years)', 'Female health index', 'Intergalactic Development Index (IDI), male']\n",
        "\n",
        "df_test_not_nan = fill_nan_with_reg(df_test, features_to_fill, cols_to_reg_on)\n",
        "not_nan_cols = df_test_not_nan.columns\n",
        "df_test[not_nan_cols] = df_test_not_nan[not_nan_cols]"
      ],
      "execution_count": null,
      "outputs": [
        {
          "output_type": "stream",
          "text": [
            "[10:46:53] WARNING: /workspace/src/objective/regression_obj.cu:152: reg:linear is now deprecated in favor of reg:squarederror.\n"
          ],
          "name": "stdout"
        }
      ]
    },
    {
      "cell_type": "code",
      "metadata": {
        "colab_type": "code",
        "id": "kgOHNRKH4ePB",
        "colab": {
          "base_uri": "https://localhost:8080/",
          "height": 35
        },
        "outputId": "674eb152-d9e4-44f1-b2ce-b99b53922c8a"
      },
      "source": [
        "features_to_fill = ['Interstellar Data Net users, total (% of population)']\n",
        "cols_to_reg_on = ['Intergalactic Development Index (IDI), male', 'Male education index', 'Intergalactic Development Index (IDI), female', 'Female education index',\n",
        " 'Intergalactic Development Index (IDI)', 'Education Index']\n",
        "\n",
        "df_test_not_nan = fill_nan_with_reg(df_test, features_to_fill, cols_to_reg_on)\n",
        "not_nan_cols = df_test_not_nan.columns\n",
        "df_test[not_nan_cols] = df_test_not_nan[not_nan_cols]"
      ],
      "execution_count": null,
      "outputs": [
        {
          "output_type": "stream",
          "text": [
            "[10:46:53] WARNING: /workspace/src/objective/regression_obj.cu:152: reg:linear is now deprecated in favor of reg:squarederror.\n"
          ],
          "name": "stdout"
        }
      ]
    },
    {
      "cell_type": "code",
      "metadata": {
        "colab_type": "code",
        "id": "bBhO6w414ePD",
        "colab": {
          "base_uri": "https://localhost:8080/",
          "height": 35
        },
        "outputId": "265ec507-de93-427b-bd8b-5ff6b852f12e"
      },
      "source": [
        "features_to_fill = ['Share of seats in senate (% held by female)']\n",
        "cols_to_reg_on = [ 'Interstellar Data Net users, total (% of population)', 'galactic year', 'Expected years of education, male (galactic years)', 'Expected years of education (galactic years)',\n",
        " 'Expected years of education index', 'Expected years of education, female (galactic years)', 'Education Index']\n",
        "\n",
        "df_test_not_nan = fill_nan_with_reg(df_test, features_to_fill, cols_to_reg_on)\n",
        "not_nan_cols = df_test_not_nan.columns\n",
        "df_test[not_nan_cols] = df_test_not_nan[not_nan_cols]"
      ],
      "execution_count": null,
      "outputs": [
        {
          "output_type": "stream",
          "text": [
            "[10:46:54] WARNING: /workspace/src/objective/regression_obj.cu:152: reg:linear is now deprecated in favor of reg:squarederror.\n"
          ],
          "name": "stdout"
        }
      ]
    },
    {
      "cell_type": "code",
      "metadata": {
        "colab_type": "code",
        "id": "ESjVyG7x4ePF",
        "colab": {
          "base_uri": "https://localhost:8080/",
          "height": 54
        },
        "outputId": "ac5989fc-384c-468e-a5c0-9dd4c3e15973"
      },
      "source": [
        "features_to_fill = ['Labour force participation rate (% ages 15 and older), male', 'Labour force participation rate (% ages 15 and older), female']\n",
        "cols_to_reg_on = ['Population with at least some secondary education (% ages 25 and older)', 'Mean years of education, male (galactic years)',\n",
        "                  'Population with at least some secondary education, male (% ages 25 and older)','Male education index','Mean years of education (galactic years)',\n",
        "                  'Mean years of education index', 'Population with at least some secondary education, female (% ages 25 and older)', 'Education Index']\n",
        "\n",
        "df_test_not_nan = fill_nan_with_reg(df_test, features_to_fill, cols_to_reg_on)\n",
        "not_nan_cols = df_test_not_nan.columns\n",
        "df_test[not_nan_cols] = df_test_not_nan[not_nan_cols]"
      ],
      "execution_count": null,
      "outputs": [
        {
          "output_type": "stream",
          "text": [
            "[10:46:54] WARNING: /workspace/src/objective/regression_obj.cu:152: reg:linear is now deprecated in favor of reg:squarederror.\n",
            "[10:46:54] WARNING: /workspace/src/objective/regression_obj.cu:152: reg:linear is now deprecated in favor of reg:squarederror.\n"
          ],
          "name": "stdout"
        }
      ]
    },
    {
      "cell_type": "code",
      "metadata": {
        "colab_type": "code",
        "id": "EINfgLJ-4ePH",
        "colab": {}
      },
      "source": [
        "df_test['Share of seats in senate (% held by male)'] = (1 - df_test['Share of seats in senate (% held by female)'] / 100) * 100\n",
        "\n",
        "Reproductive_health_index_female = np.sqrt((10/df_test['Maternal mortality ratio (deaths per 100,000 live births)'])*(1/df_test['Adolescent birth rate (births per 1,000 female creatures ages 15-19)']))\n",
        "Reproductive_health_index_male = [1] * df_test.shape[0]\n",
        "\n",
        "Empowerment_index_female = np.sqrt((df_test['Share of seats in senate (% held by female)'] / 100)*(df_test['Population with at least some secondary education, female (% ages 25 and older)'] / 100))\n",
        "Empowerment_index_male = np.sqrt((df_test['Share of seats in senate (% held by male)'] / 100)*(df_test['Population with at least some secondary education, male (% ages 25 and older)'] / 100))\n",
        "\n",
        "Labour_Market_Index_female = df_test['Labour force participation rate (% ages 15 and older), female'] /100\n",
        "Labour_Market_Index_male = df_test['Labour force participation rate (% ages 15 and older), male'] / 100\n",
        "\n",
        "\n",
        "Gender_indices_female =  (Reproductive_health_index_female * Empowerment_index_female * Labour_Market_Index_female) ** (1/3)\n",
        "Gender_indices_male = (Reproductive_health_index_male * Empowerment_index_male * Labour_Market_Index_male) ** (1/3)\n",
        "\n",
        "\n",
        "Accounting_inequality = pd.Series(hmean(pd.DataFrame(zip(Gender_indices_female, Gender_indices_male)), axis=1))\n",
        "\n",
        "Treating_equally = (((Reproductive_health_index_female + Reproductive_health_index_male)/2)*\n",
        "                    ((Empowerment_index_female + Empowerment_index_male)/2)*\n",
        "                    ((Labour_Market_Index_female+Labour_Market_Index_male)/2))**(1/3)\n",
        "\n",
        "\n",
        "df_test['Gender Inequality Index (GII)'] = df_test['Gender Inequality Index (GII)'].fillna(1 - (Accounting_inequality / Treating_equally))"
      ],
      "execution_count": null,
      "outputs": []
    },
    {
      "cell_type": "code",
      "metadata": {
        "id": "MlKufhNanTCX",
        "colab_type": "code",
        "colab": {
          "base_uri": "https://localhost:8080/",
          "height": 54
        },
        "outputId": "e00c8592-9f47-47ce-aa06-0ec4a197fab5"
      },
      "source": [
        "features_to_fill = ['Intergalactic Development Index (IDI), male, Rank', 'Intergalactic Development Index (IDI), female, Rank']\n",
        "cols_to_reg_on = ['Intergalactic Development Index (IDI), Rank','Intergalactic Development Index (IDI), female, Rank','Intergalactic Development Index (IDI), male',\n",
        " 'Intergalactic Development Index (IDI)','Income Index','Intergalactic Development Index (IDI), female','Male education index','Health Index',\n",
        " 'existence expectancy at birth','Female education index','Life expectancy at birth, female (galactic years)','Female health index',\n",
        " 'Education Index','Male health index','Life expectancy at birth, male (galactic years)','existence expectancy index']\n",
        "\n",
        "df_test_not_nan = fill_nan_with_reg(df_test, features_to_fill, cols_to_reg_on)\n",
        "not_nan_cols = df_test_not_nan.columns\n",
        "df_test[not_nan_cols] = df_test_not_nan[not_nan_cols]"
      ],
      "execution_count": null,
      "outputs": [
        {
          "output_type": "stream",
          "text": [
            "[10:46:55] WARNING: /workspace/src/objective/regression_obj.cu:152: reg:linear is now deprecated in favor of reg:squarederror.\n",
            "[10:46:55] WARNING: /workspace/src/objective/regression_obj.cu:152: reg:linear is now deprecated in favor of reg:squarederror.\n"
          ],
          "name": "stdout"
        }
      ]
    },
    {
      "cell_type": "markdown",
      "metadata": {
        "id": "GYpVwoOZZ8cA",
        "colab_type": "text"
      },
      "source": [
        "#Predictions"
      ]
    },
    {
      "cell_type": "code",
      "metadata": {
        "id": "qdWxZT2jExo9",
        "colab_type": "code",
        "colab": {}
      },
      "source": [
        "def test_loop(data, test_data):\n",
        "    labels = data['y']\n",
        "    data = data.drop('galaxy', axis=1)    \n",
        "    data = data.drop('y', axis=1)\n",
        "\n",
        "\n",
        "    columns = ['galactic year','Intergalactic Development Index (IDI), Rank', 'Gender Inequality Index (GII)',\n",
        "                        'Gender Inequality Index (GII)','Interstellar Data Net users, total (% of population)']\n",
        "\n",
        "    train_labels = labels\n",
        "    train_data = data[columns]\n",
        "    test_data = test_data[columns]\n",
        "\n",
        "    scaler = StandardScaler().fit(train_data)\n",
        "    train_data = scaler.transform(train_data)\n",
        "    test_data = scaler.transform(test_data)\n",
        "\n",
        "    model = XGBRegressor(silent = True).fit(train_data, train_labels)\n",
        "    predictions = model.predict(test_data)\n",
        "\n",
        "    return predictions"
      ],
      "execution_count": 142,
      "outputs": []
    },
    {
      "cell_type": "code",
      "metadata": {
        "id": "lIn0pJJt-SoP",
        "colab_type": "code",
        "colab": {}
      },
      "source": [
        "#Data frame for predictions\n",
        "df_test = df_test.sort_values(by=['galaxy'])\n",
        "test_pred = pd.DataFrame(0, index=np.arange(len(df_test)), columns=[\"predicted_y\"])"
      ],
      "execution_count": null,
      "outputs": []
    },
    {
      "cell_type": "code",
      "metadata": {
        "id": "ieKqi82W_jyO",
        "colab_type": "code",
        "colab": {
          "base_uri": "https://localhost:8080/",
          "height": 1000
        },
        "outputId": "5705b4de-7970-4050-cc68-27854a97e948"
      },
      "source": [
        "i=0\n",
        "test_gal = np.sort(df_test['galaxy'].unique())\n",
        "\n",
        "for gal in test_gal:\n",
        "    count = len(df_test.loc[df_test['galaxy'] == gal])\n",
        "    data = df_train.loc[df_train['galaxy'] == gal]\n",
        "    test_data = df_test.loc[df_test['galaxy'] == gal]\n",
        "    pred = test_loop(data, test_data)\n",
        "    test_pred.loc[i:i+count-1,'predicted_y'] = pred\n",
        "    i=i+count"
      ],
      "execution_count": null,
      "outputs": [
        {
          "output_type": "stream",
          "text": [
            "[11:31:33] WARNING: /workspace/src/objective/regression_obj.cu:152: reg:linear is now deprecated in favor of reg:squarederror.\n",
            "[11:31:33] WARNING: /workspace/src/objective/regression_obj.cu:152: reg:linear is now deprecated in favor of reg:squarederror.\n",
            "[11:31:33] WARNING: /workspace/src/objective/regression_obj.cu:152: reg:linear is now deprecated in favor of reg:squarederror.\n",
            "[11:31:33] WARNING: /workspace/src/objective/regression_obj.cu:152: reg:linear is now deprecated in favor of reg:squarederror.\n",
            "[11:31:33] WARNING: /workspace/src/objective/regression_obj.cu:152: reg:linear is now deprecated in favor of reg:squarederror.\n",
            "[11:31:33] WARNING: /workspace/src/objective/regression_obj.cu:152: reg:linear is now deprecated in favor of reg:squarederror.\n",
            "[11:31:33] WARNING: /workspace/src/objective/regression_obj.cu:152: reg:linear is now deprecated in favor of reg:squarederror.\n",
            "[11:31:33] WARNING: /workspace/src/objective/regression_obj.cu:152: reg:linear is now deprecated in favor of reg:squarederror.\n",
            "[11:31:33] WARNING: /workspace/src/objective/regression_obj.cu:152: reg:linear is now deprecated in favor of reg:squarederror.\n",
            "[11:31:33] WARNING: /workspace/src/objective/regression_obj.cu:152: reg:linear is now deprecated in favor of reg:squarederror.\n",
            "[11:31:33] WARNING: /workspace/src/objective/regression_obj.cu:152: reg:linear is now deprecated in favor of reg:squarederror.\n",
            "[11:31:33] WARNING: /workspace/src/objective/regression_obj.cu:152: reg:linear is now deprecated in favor of reg:squarederror.\n",
            "[11:31:33] WARNING: /workspace/src/objective/regression_obj.cu:152: reg:linear is now deprecated in favor of reg:squarederror.\n",
            "[11:31:33] WARNING: /workspace/src/objective/regression_obj.cu:152: reg:linear is now deprecated in favor of reg:squarederror.\n",
            "[11:31:33] WARNING: /workspace/src/objective/regression_obj.cu:152: reg:linear is now deprecated in favor of reg:squarederror.\n",
            "[11:31:33] WARNING: /workspace/src/objective/regression_obj.cu:152: reg:linear is now deprecated in favor of reg:squarederror.\n",
            "[11:31:33] WARNING: /workspace/src/objective/regression_obj.cu:152: reg:linear is now deprecated in favor of reg:squarederror.\n",
            "[11:31:33] WARNING: /workspace/src/objective/regression_obj.cu:152: reg:linear is now deprecated in favor of reg:squarederror.\n",
            "[11:31:33] WARNING: /workspace/src/objective/regression_obj.cu:152: reg:linear is now deprecated in favor of reg:squarederror.\n",
            "[11:31:33] WARNING: /workspace/src/objective/regression_obj.cu:152: reg:linear is now deprecated in favor of reg:squarederror.\n",
            "[11:31:33] WARNING: /workspace/src/objective/regression_obj.cu:152: reg:linear is now deprecated in favor of reg:squarederror.\n",
            "[11:31:33] WARNING: /workspace/src/objective/regression_obj.cu:152: reg:linear is now deprecated in favor of reg:squarederror.\n",
            "[11:31:33] WARNING: /workspace/src/objective/regression_obj.cu:152: reg:linear is now deprecated in favor of reg:squarederror.\n",
            "[11:31:33] WARNING: /workspace/src/objective/regression_obj.cu:152: reg:linear is now deprecated in favor of reg:squarederror.\n",
            "[11:31:33] WARNING: /workspace/src/objective/regression_obj.cu:152: reg:linear is now deprecated in favor of reg:squarederror.\n",
            "[11:31:33] WARNING: /workspace/src/objective/regression_obj.cu:152: reg:linear is now deprecated in favor of reg:squarederror.\n",
            "[11:31:33] WARNING: /workspace/src/objective/regression_obj.cu:152: reg:linear is now deprecated in favor of reg:squarederror.\n",
            "[11:31:33] WARNING: /workspace/src/objective/regression_obj.cu:152: reg:linear is now deprecated in favor of reg:squarederror.\n",
            "[11:31:33] WARNING: /workspace/src/objective/regression_obj.cu:152: reg:linear is now deprecated in favor of reg:squarederror.\n",
            "[11:31:33] WARNING: /workspace/src/objective/regression_obj.cu:152: reg:linear is now deprecated in favor of reg:squarederror.\n",
            "[11:31:33] WARNING: /workspace/src/objective/regression_obj.cu:152: reg:linear is now deprecated in favor of reg:squarederror.\n",
            "[11:31:33] WARNING: /workspace/src/objective/regression_obj.cu:152: reg:linear is now deprecated in favor of reg:squarederror.\n",
            "[11:31:33] WARNING: /workspace/src/objective/regression_obj.cu:152: reg:linear is now deprecated in favor of reg:squarederror.\n",
            "[11:31:33] WARNING: /workspace/src/objective/regression_obj.cu:152: reg:linear is now deprecated in favor of reg:squarederror.\n",
            "[11:31:33] WARNING: /workspace/src/objective/regression_obj.cu:152: reg:linear is now deprecated in favor of reg:squarederror.\n",
            "[11:31:33] WARNING: /workspace/src/objective/regression_obj.cu:152: reg:linear is now deprecated in favor of reg:squarederror.\n",
            "[11:31:33] WARNING: /workspace/src/objective/regression_obj.cu:152: reg:linear is now deprecated in favor of reg:squarederror.\n",
            "[11:31:33] WARNING: /workspace/src/objective/regression_obj.cu:152: reg:linear is now deprecated in favor of reg:squarederror.\n",
            "[11:31:33] WARNING: /workspace/src/objective/regression_obj.cu:152: reg:linear is now deprecated in favor of reg:squarederror.\n",
            "[11:31:33] WARNING: /workspace/src/objective/regression_obj.cu:152: reg:linear is now deprecated in favor of reg:squarederror.\n",
            "[11:31:33] WARNING: /workspace/src/objective/regression_obj.cu:152: reg:linear is now deprecated in favor of reg:squarederror.\n",
            "[11:31:33] WARNING: /workspace/src/objective/regression_obj.cu:152: reg:linear is now deprecated in favor of reg:squarederror.\n",
            "[11:31:33] WARNING: /workspace/src/objective/regression_obj.cu:152: reg:linear is now deprecated in favor of reg:squarederror.\n",
            "[11:31:33] WARNING: /workspace/src/objective/regression_obj.cu:152: reg:linear is now deprecated in favor of reg:squarederror.\n",
            "[11:31:33] WARNING: /workspace/src/objective/regression_obj.cu:152: reg:linear is now deprecated in favor of reg:squarederror.\n",
            "[11:31:33] WARNING: /workspace/src/objective/regression_obj.cu:152: reg:linear is now deprecated in favor of reg:squarederror.\n",
            "[11:31:33] WARNING: /workspace/src/objective/regression_obj.cu:152: reg:linear is now deprecated in favor of reg:squarederror.\n",
            "[11:31:33] WARNING: /workspace/src/objective/regression_obj.cu:152: reg:linear is now deprecated in favor of reg:squarederror.\n",
            "[11:31:33] WARNING: /workspace/src/objective/regression_obj.cu:152: reg:linear is now deprecated in favor of reg:squarederror.\n",
            "[11:31:33] WARNING: /workspace/src/objective/regression_obj.cu:152: reg:linear is now deprecated in favor of reg:squarederror.\n",
            "[11:31:33] WARNING: /workspace/src/objective/regression_obj.cu:152: reg:linear is now deprecated in favor of reg:squarederror.\n",
            "[11:31:33] WARNING: /workspace/src/objective/regression_obj.cu:152: reg:linear is now deprecated in favor of reg:squarederror.\n",
            "[11:31:33] WARNING: /workspace/src/objective/regression_obj.cu:152: reg:linear is now deprecated in favor of reg:squarederror.\n",
            "[11:31:33] WARNING: /workspace/src/objective/regression_obj.cu:152: reg:linear is now deprecated in favor of reg:squarederror.\n",
            "[11:31:33] WARNING: /workspace/src/objective/regression_obj.cu:152: reg:linear is now deprecated in favor of reg:squarederror.\n",
            "[11:31:33] WARNING: /workspace/src/objective/regression_obj.cu:152: reg:linear is now deprecated in favor of reg:squarederror.\n",
            "[11:31:33] WARNING: /workspace/src/objective/regression_obj.cu:152: reg:linear is now deprecated in favor of reg:squarederror.\n",
            "[11:31:33] WARNING: /workspace/src/objective/regression_obj.cu:152: reg:linear is now deprecated in favor of reg:squarederror.\n",
            "[11:31:33] WARNING: /workspace/src/objective/regression_obj.cu:152: reg:linear is now deprecated in favor of reg:squarederror.\n",
            "[11:31:33] WARNING: /workspace/src/objective/regression_obj.cu:152: reg:linear is now deprecated in favor of reg:squarederror.\n",
            "[11:31:33] WARNING: /workspace/src/objective/regression_obj.cu:152: reg:linear is now deprecated in favor of reg:squarederror.\n",
            "[11:31:33] WARNING: /workspace/src/objective/regression_obj.cu:152: reg:linear is now deprecated in favor of reg:squarederror.\n",
            "[11:31:33] WARNING: /workspace/src/objective/regression_obj.cu:152: reg:linear is now deprecated in favor of reg:squarederror.\n",
            "[11:31:33] WARNING: /workspace/src/objective/regression_obj.cu:152: reg:linear is now deprecated in favor of reg:squarederror.\n",
            "[11:31:33] WARNING: /workspace/src/objective/regression_obj.cu:152: reg:linear is now deprecated in favor of reg:squarederror.\n",
            "[11:31:33] WARNING: /workspace/src/objective/regression_obj.cu:152: reg:linear is now deprecated in favor of reg:squarederror.\n",
            "[11:31:33] WARNING: /workspace/src/objective/regression_obj.cu:152: reg:linear is now deprecated in favor of reg:squarederror.\n",
            "[11:31:34] WARNING: /workspace/src/objective/regression_obj.cu:152: reg:linear is now deprecated in favor of reg:squarederror.\n",
            "[11:31:34] WARNING: /workspace/src/objective/regression_obj.cu:152: reg:linear is now deprecated in favor of reg:squarederror.\n",
            "[11:31:34] WARNING: /workspace/src/objective/regression_obj.cu:152: reg:linear is now deprecated in favor of reg:squarederror.\n",
            "[11:31:34] WARNING: /workspace/src/objective/regression_obj.cu:152: reg:linear is now deprecated in favor of reg:squarederror.\n",
            "[11:31:34] WARNING: /workspace/src/objective/regression_obj.cu:152: reg:linear is now deprecated in favor of reg:squarederror.\n",
            "[11:31:34] WARNING: /workspace/src/objective/regression_obj.cu:152: reg:linear is now deprecated in favor of reg:squarederror.\n",
            "[11:31:34] WARNING: /workspace/src/objective/regression_obj.cu:152: reg:linear is now deprecated in favor of reg:squarederror.\n",
            "[11:31:34] WARNING: /workspace/src/objective/regression_obj.cu:152: reg:linear is now deprecated in favor of reg:squarederror.\n",
            "[11:31:34] WARNING: /workspace/src/objective/regression_obj.cu:152: reg:linear is now deprecated in favor of reg:squarederror.\n",
            "[11:31:34] WARNING: /workspace/src/objective/regression_obj.cu:152: reg:linear is now deprecated in favor of reg:squarederror.\n",
            "[11:31:34] WARNING: /workspace/src/objective/regression_obj.cu:152: reg:linear is now deprecated in favor of reg:squarederror.\n",
            "[11:31:34] WARNING: /workspace/src/objective/regression_obj.cu:152: reg:linear is now deprecated in favor of reg:squarederror.\n",
            "[11:31:34] WARNING: /workspace/src/objective/regression_obj.cu:152: reg:linear is now deprecated in favor of reg:squarederror.\n",
            "[11:31:34] WARNING: /workspace/src/objective/regression_obj.cu:152: reg:linear is now deprecated in favor of reg:squarederror.\n",
            "[11:31:34] WARNING: /workspace/src/objective/regression_obj.cu:152: reg:linear is now deprecated in favor of reg:squarederror.\n",
            "[11:31:34] WARNING: /workspace/src/objective/regression_obj.cu:152: reg:linear is now deprecated in favor of reg:squarederror.\n",
            "[11:31:34] WARNING: /workspace/src/objective/regression_obj.cu:152: reg:linear is now deprecated in favor of reg:squarederror.\n",
            "[11:31:34] WARNING: /workspace/src/objective/regression_obj.cu:152: reg:linear is now deprecated in favor of reg:squarederror.\n",
            "[11:31:34] WARNING: /workspace/src/objective/regression_obj.cu:152: reg:linear is now deprecated in favor of reg:squarederror.\n",
            "[11:31:34] WARNING: /workspace/src/objective/regression_obj.cu:152: reg:linear is now deprecated in favor of reg:squarederror.\n",
            "[11:31:34] WARNING: /workspace/src/objective/regression_obj.cu:152: reg:linear is now deprecated in favor of reg:squarederror.\n",
            "[11:31:34] WARNING: /workspace/src/objective/regression_obj.cu:152: reg:linear is now deprecated in favor of reg:squarederror.\n",
            "[11:31:34] WARNING: /workspace/src/objective/regression_obj.cu:152: reg:linear is now deprecated in favor of reg:squarederror.\n",
            "[11:31:34] WARNING: /workspace/src/objective/regression_obj.cu:152: reg:linear is now deprecated in favor of reg:squarederror.\n",
            "[11:31:34] WARNING: /workspace/src/objective/regression_obj.cu:152: reg:linear is now deprecated in favor of reg:squarederror.\n",
            "[11:31:34] WARNING: /workspace/src/objective/regression_obj.cu:152: reg:linear is now deprecated in favor of reg:squarederror.\n",
            "[11:31:34] WARNING: /workspace/src/objective/regression_obj.cu:152: reg:linear is now deprecated in favor of reg:squarederror.\n",
            "[11:31:34] WARNING: /workspace/src/objective/regression_obj.cu:152: reg:linear is now deprecated in favor of reg:squarederror.\n",
            "[11:31:34] WARNING: /workspace/src/objective/regression_obj.cu:152: reg:linear is now deprecated in favor of reg:squarederror.\n",
            "[11:31:34] WARNING: /workspace/src/objective/regression_obj.cu:152: reg:linear is now deprecated in favor of reg:squarederror.\n",
            "[11:31:34] WARNING: /workspace/src/objective/regression_obj.cu:152: reg:linear is now deprecated in favor of reg:squarederror.\n",
            "[11:31:34] WARNING: /workspace/src/objective/regression_obj.cu:152: reg:linear is now deprecated in favor of reg:squarederror.\n",
            "[11:31:34] WARNING: /workspace/src/objective/regression_obj.cu:152: reg:linear is now deprecated in favor of reg:squarederror.\n",
            "[11:31:34] WARNING: /workspace/src/objective/regression_obj.cu:152: reg:linear is now deprecated in favor of reg:squarederror.\n",
            "[11:31:34] WARNING: /workspace/src/objective/regression_obj.cu:152: reg:linear is now deprecated in favor of reg:squarederror.\n",
            "[11:31:34] WARNING: /workspace/src/objective/regression_obj.cu:152: reg:linear is now deprecated in favor of reg:squarederror.\n",
            "[11:31:34] WARNING: /workspace/src/objective/regression_obj.cu:152: reg:linear is now deprecated in favor of reg:squarederror.\n",
            "[11:31:34] WARNING: /workspace/src/objective/regression_obj.cu:152: reg:linear is now deprecated in favor of reg:squarederror.\n",
            "[11:31:34] WARNING: /workspace/src/objective/regression_obj.cu:152: reg:linear is now deprecated in favor of reg:squarederror.\n",
            "[11:31:34] WARNING: /workspace/src/objective/regression_obj.cu:152: reg:linear is now deprecated in favor of reg:squarederror.\n",
            "[11:31:34] WARNING: /workspace/src/objective/regression_obj.cu:152: reg:linear is now deprecated in favor of reg:squarederror.\n",
            "[11:31:34] WARNING: /workspace/src/objective/regression_obj.cu:152: reg:linear is now deprecated in favor of reg:squarederror.\n",
            "[11:31:34] WARNING: /workspace/src/objective/regression_obj.cu:152: reg:linear is now deprecated in favor of reg:squarederror.\n",
            "[11:31:34] WARNING: /workspace/src/objective/regression_obj.cu:152: reg:linear is now deprecated in favor of reg:squarederror.\n",
            "[11:31:34] WARNING: /workspace/src/objective/regression_obj.cu:152: reg:linear is now deprecated in favor of reg:squarederror.\n",
            "[11:31:34] WARNING: /workspace/src/objective/regression_obj.cu:152: reg:linear is now deprecated in favor of reg:squarederror.\n",
            "[11:31:34] WARNING: /workspace/src/objective/regression_obj.cu:152: reg:linear is now deprecated in favor of reg:squarederror.\n",
            "[11:31:34] WARNING: /workspace/src/objective/regression_obj.cu:152: reg:linear is now deprecated in favor of reg:squarederror.\n",
            "[11:31:34] WARNING: /workspace/src/objective/regression_obj.cu:152: reg:linear is now deprecated in favor of reg:squarederror.\n",
            "[11:31:34] WARNING: /workspace/src/objective/regression_obj.cu:152: reg:linear is now deprecated in favor of reg:squarederror.\n",
            "[11:31:34] WARNING: /workspace/src/objective/regression_obj.cu:152: reg:linear is now deprecated in favor of reg:squarederror.\n",
            "[11:31:34] WARNING: /workspace/src/objective/regression_obj.cu:152: reg:linear is now deprecated in favor of reg:squarederror.\n",
            "[11:31:34] WARNING: /workspace/src/objective/regression_obj.cu:152: reg:linear is now deprecated in favor of reg:squarederror.\n",
            "[11:31:34] WARNING: /workspace/src/objective/regression_obj.cu:152: reg:linear is now deprecated in favor of reg:squarederror.\n",
            "[11:31:34] WARNING: /workspace/src/objective/regression_obj.cu:152: reg:linear is now deprecated in favor of reg:squarederror.\n",
            "[11:31:34] WARNING: /workspace/src/objective/regression_obj.cu:152: reg:linear is now deprecated in favor of reg:squarederror.\n",
            "[11:31:34] WARNING: /workspace/src/objective/regression_obj.cu:152: reg:linear is now deprecated in favor of reg:squarederror.\n",
            "[11:31:34] WARNING: /workspace/src/objective/regression_obj.cu:152: reg:linear is now deprecated in favor of reg:squarederror.\n",
            "[11:31:34] WARNING: /workspace/src/objective/regression_obj.cu:152: reg:linear is now deprecated in favor of reg:squarederror.\n",
            "[11:31:34] WARNING: /workspace/src/objective/regression_obj.cu:152: reg:linear is now deprecated in favor of reg:squarederror.\n",
            "[11:31:34] WARNING: /workspace/src/objective/regression_obj.cu:152: reg:linear is now deprecated in favor of reg:squarederror.\n",
            "[11:31:34] WARNING: /workspace/src/objective/regression_obj.cu:152: reg:linear is now deprecated in favor of reg:squarederror.\n",
            "[11:31:34] WARNING: /workspace/src/objective/regression_obj.cu:152: reg:linear is now deprecated in favor of reg:squarederror.\n",
            "[11:31:34] WARNING: /workspace/src/objective/regression_obj.cu:152: reg:linear is now deprecated in favor of reg:squarederror.\n",
            "[11:31:34] WARNING: /workspace/src/objective/regression_obj.cu:152: reg:linear is now deprecated in favor of reg:squarederror.\n",
            "[11:31:34] WARNING: /workspace/src/objective/regression_obj.cu:152: reg:linear is now deprecated in favor of reg:squarederror.\n",
            "[11:31:34] WARNING: /workspace/src/objective/regression_obj.cu:152: reg:linear is now deprecated in favor of reg:squarederror.\n",
            "[11:31:35] WARNING: /workspace/src/objective/regression_obj.cu:152: reg:linear is now deprecated in favor of reg:squarederror.\n",
            "[11:31:35] WARNING: /workspace/src/objective/regression_obj.cu:152: reg:linear is now deprecated in favor of reg:squarederror.\n",
            "[11:31:35] WARNING: /workspace/src/objective/regression_obj.cu:152: reg:linear is now deprecated in favor of reg:squarederror.\n",
            "[11:31:35] WARNING: /workspace/src/objective/regression_obj.cu:152: reg:linear is now deprecated in favor of reg:squarederror.\n",
            "[11:31:35] WARNING: /workspace/src/objective/regression_obj.cu:152: reg:linear is now deprecated in favor of reg:squarederror.\n",
            "[11:31:35] WARNING: /workspace/src/objective/regression_obj.cu:152: reg:linear is now deprecated in favor of reg:squarederror.\n",
            "[11:31:35] WARNING: /workspace/src/objective/regression_obj.cu:152: reg:linear is now deprecated in favor of reg:squarederror.\n",
            "[11:31:35] WARNING: /workspace/src/objective/regression_obj.cu:152: reg:linear is now deprecated in favor of reg:squarederror.\n",
            "[11:31:35] WARNING: /workspace/src/objective/regression_obj.cu:152: reg:linear is now deprecated in favor of reg:squarederror.\n",
            "[11:31:35] WARNING: /workspace/src/objective/regression_obj.cu:152: reg:linear is now deprecated in favor of reg:squarederror.\n",
            "[11:31:35] WARNING: /workspace/src/objective/regression_obj.cu:152: reg:linear is now deprecated in favor of reg:squarederror.\n",
            "[11:31:35] WARNING: /workspace/src/objective/regression_obj.cu:152: reg:linear is now deprecated in favor of reg:squarederror.\n",
            "[11:31:35] WARNING: /workspace/src/objective/regression_obj.cu:152: reg:linear is now deprecated in favor of reg:squarederror.\n",
            "[11:31:35] WARNING: /workspace/src/objective/regression_obj.cu:152: reg:linear is now deprecated in favor of reg:squarederror.\n",
            "[11:31:35] WARNING: /workspace/src/objective/regression_obj.cu:152: reg:linear is now deprecated in favor of reg:squarederror.\n",
            "[11:31:35] WARNING: /workspace/src/objective/regression_obj.cu:152: reg:linear is now deprecated in favor of reg:squarederror.\n",
            "[11:31:35] WARNING: /workspace/src/objective/regression_obj.cu:152: reg:linear is now deprecated in favor of reg:squarederror.\n",
            "[11:31:35] WARNING: /workspace/src/objective/regression_obj.cu:152: reg:linear is now deprecated in favor of reg:squarederror.\n",
            "[11:31:35] WARNING: /workspace/src/objective/regression_obj.cu:152: reg:linear is now deprecated in favor of reg:squarederror.\n",
            "[11:31:35] WARNING: /workspace/src/objective/regression_obj.cu:152: reg:linear is now deprecated in favor of reg:squarederror.\n",
            "[11:31:35] WARNING: /workspace/src/objective/regression_obj.cu:152: reg:linear is now deprecated in favor of reg:squarederror.\n",
            "[11:31:35] WARNING: /workspace/src/objective/regression_obj.cu:152: reg:linear is now deprecated in favor of reg:squarederror.\n",
            "[11:31:35] WARNING: /workspace/src/objective/regression_obj.cu:152: reg:linear is now deprecated in favor of reg:squarederror.\n",
            "[11:31:35] WARNING: /workspace/src/objective/regression_obj.cu:152: reg:linear is now deprecated in favor of reg:squarederror.\n",
            "[11:31:35] WARNING: /workspace/src/objective/regression_obj.cu:152: reg:linear is now deprecated in favor of reg:squarederror.\n",
            "[11:31:35] WARNING: /workspace/src/objective/regression_obj.cu:152: reg:linear is now deprecated in favor of reg:squarederror.\n",
            "[11:31:35] WARNING: /workspace/src/objective/regression_obj.cu:152: reg:linear is now deprecated in favor of reg:squarederror.\n",
            "[11:31:35] WARNING: /workspace/src/objective/regression_obj.cu:152: reg:linear is now deprecated in favor of reg:squarederror.\n",
            "[11:31:35] WARNING: /workspace/src/objective/regression_obj.cu:152: reg:linear is now deprecated in favor of reg:squarederror.\n",
            "[11:31:35] WARNING: /workspace/src/objective/regression_obj.cu:152: reg:linear is now deprecated in favor of reg:squarederror.\n",
            "[11:31:35] WARNING: /workspace/src/objective/regression_obj.cu:152: reg:linear is now deprecated in favor of reg:squarederror.\n",
            "[11:31:35] WARNING: /workspace/src/objective/regression_obj.cu:152: reg:linear is now deprecated in favor of reg:squarederror.\n",
            "[11:31:35] WARNING: /workspace/src/objective/regression_obj.cu:152: reg:linear is now deprecated in favor of reg:squarederror.\n",
            "[11:31:35] WARNING: /workspace/src/objective/regression_obj.cu:152: reg:linear is now deprecated in favor of reg:squarederror.\n",
            "[11:31:35] WARNING: /workspace/src/objective/regression_obj.cu:152: reg:linear is now deprecated in favor of reg:squarederror.\n",
            "[11:31:35] WARNING: /workspace/src/objective/regression_obj.cu:152: reg:linear is now deprecated in favor of reg:squarederror.\n",
            "[11:31:35] WARNING: /workspace/src/objective/regression_obj.cu:152: reg:linear is now deprecated in favor of reg:squarederror.\n",
            "[11:31:35] WARNING: /workspace/src/objective/regression_obj.cu:152: reg:linear is now deprecated in favor of reg:squarederror.\n"
          ],
          "name": "stdout"
        }
      ]
    },
    {
      "cell_type": "code",
      "metadata": {
        "id": "o8nJYykt_juc",
        "colab_type": "code",
        "colab": {}
      },
      "source": [
        "df_test[\"predicted_y\"] = test_pred.to_numpy()\n",
        "df_test.sort_index(inplace=True)\n",
        "predictions = df_test[\"predicted_y\"]"
      ],
      "execution_count": null,
      "outputs": []
    },
    {
      "cell_type": "markdown",
      "metadata": {
        "id": "FFZyV4AmaFML",
        "colab_type": "text"
      },
      "source": [
        "#Optimization part\n",
        "For optimization part i allocated 100z DSML to every galaxy in top 500 by their potential."
      ]
    },
    {
      "cell_type": "code",
      "metadata": {
        "id": "YGHNZMI_DMwk",
        "colab_type": "code",
        "colab": {}
      },
      "source": [
        "index = predictions\n",
        "pot_inc = -np.log(index+0.01)+3\n",
        "p2 = pot_inc**2"
      ],
      "execution_count": null,
      "outputs": []
    },
    {
      "cell_type": "code",
      "metadata": {
        "id": "wIUUzZOpDJQu",
        "colab_type": "code",
        "colab": {}
      },
      "source": [
        "ss = pd.DataFrame({\n",
        "    'Index': df_test.index,\n",
        "    'pred': predictions,\n",
        "    'opt_pred': 0,\n",
        "    'eei': df_test['existence expectancy index'], # So we can split into low and high EEI galaxies\n",
        "})"
      ],
      "execution_count": null,
      "outputs": []
    },
    {
      "cell_type": "code",
      "metadata": {
        "id": "ZnfsA8p5DSTo",
        "colab_type": "code",
        "colab": {}
      },
      "source": [
        "ss.loc[p2.nlargest(400).index, 'opt_pred'] = 100\n",
        "ss = ss.sort_values('pred')\n",
        "ss.iloc[400:600].opt_pred = 50\n",
        "ss = ss.sort_index()"
      ],
      "execution_count": null,
      "outputs": []
    },
    {
      "cell_type": "code",
      "metadata": {
        "id": "7XG1k21CDSOk",
        "colab_type": "code",
        "colab": {}
      },
      "source": [
        "# increase = (ss['opt_pred']*p2)/1000\n",
        "# print(sum(increase), ss.loc[ss.eei < 0.7, 'opt_pred'].sum(), ss['opt_pred'].sum())"
      ],
      "execution_count": null,
      "outputs": []
    },
    {
      "cell_type": "markdown",
      "metadata": {
        "id": "FEo2jTj0iLkI",
        "colab_type": "text"
      },
      "source": [
        "#Submission"
      ]
    },
    {
      "cell_type": "code",
      "metadata": {
        "id": "BxigcZ6E2lm6",
        "colab_type": "code",
        "colab": {}
      },
      "source": [
        "ss[['Index', 'pred', 'opt_pred']].to_csv('submission.csv', index=False)"
      ],
      "execution_count": null,
      "outputs": []
    },
    {
      "cell_type": "markdown",
      "metadata": {
        "id": "6-7x46whiQfC",
        "colab_type": "text"
      },
      "source": [
        "#Results and thoughts:\n",
        "*   What was tried:\n",
        "  *   Filling missing values with mean/median;\n",
        "  *   Training and predicting on full dataset;\n",
        "  *   Predictinng using top correletad features only (tried from 2 to 20 features);\n",
        "  *   Predicting using XGBoost feature importance;\n",
        "  *   Predicting using shift of target variable(lag) and using differences between years;\n",
        "  *   Clustering galaxies and predicting on that clusters;\n",
        "  *   Various machine learning models: Lasso/Ridge regression, Random Forest, Gradient Boosting Tree, XGBoost, LightGBM, CatBoost;\n",
        "  *   Ensembling and stacking of models;\n",
        "  *   Solving optimization part using scipy package for optimization.  \n",
        "\n",
        "*   As the result, the solution that is provided in current notebook got me 178th place out of 900+ participants;\n",
        "*   As it occured, optimization part played a great role in final score on leaderboard. People that got approximatly the same score as i, after improving their optimization part, moved into top 10 - top 20. \n",
        "*   Overall it was a great experience for me especially because prohack was my first data science competition. It was really exciting to test different ideas and methods throught the contest and then to analyze others notebooks. Hope to participate next year.\n"
      ]
    }
  ]
}